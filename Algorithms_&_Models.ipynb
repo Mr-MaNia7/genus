{
  "cells": [
    {
      "cell_type": "markdown",
      "metadata": {
        "id": "view-in-github",
        "colab_type": "text"
      },
      "source": [
        "<a href=\"https://colab.research.google.com/github/Mr-MaNia7/genus/blob/version1/Algorithms_%26_Models.ipynb\" target=\"_parent\"><img src=\"https://colab.research.google.com/assets/colab-badge.svg\" alt=\"Open In Colab\"/></a>"
      ]
    },
    {
      "cell_type": "code",
      "execution_count": 1,
      "metadata": {
        "colab": {
          "base_uri": "https://localhost:8080/"
        },
        "id": "lbKpZXgwRdSY",
        "outputId": "764d5385-2a20-44c3-c777-d55259480602"
      },
      "outputs": [
        {
          "output_type": "stream",
          "name": "stdout",
          "text": [
            "Mounted at /content/drive\n"
          ]
        }
      ],
      "source": [
        "from google.colab import drive\n",
        "drive.mount('/content/drive')"
      ]
    },
    {
      "cell_type": "markdown",
      "metadata": {
        "id": "YPCcZawnRrd9"
      },
      "source": [
        "#**Pre**\n"
      ]
    },
    {
      "cell_type": "code",
      "execution_count": 206,
      "metadata": {
        "colab": {
          "base_uri": "https://localhost:8080/",
          "height": 300
        },
        "id": "WeCYYKafRv4T",
        "outputId": "5c6a35be-9ac8-4859-ef37-52ae76e12565"
      },
      "outputs": [
        {
          "output_type": "execute_result",
          "data": {
            "text/plain": [
              "        filename  chroma_stft      rmse  spectral_centroid  \\\n",
              "0  tizta_001.wav     0.247649  0.170541        1173.567698   \n",
              "1  tizta_003.wav     0.359356  0.114772        2371.347112   \n",
              "2  tizta_002.wav     0.342325  0.191678        1858.957915   \n",
              "3  tizta_004.wav     0.357074  0.165511        1876.547246   \n",
              "4  tizta_005.wav     0.279588  0.180006        1835.180973   \n",
              "\n",
              "   spectral_bandwidth      rolloff  zero_crossing_rate       mfcc1  \\\n",
              "0         1589.101382  1825.822293            0.050855 -175.267685   \n",
              "1         2690.149684  5756.256859            0.077017 -158.201218   \n",
              "2         2292.546108  4072.665417            0.073601 -114.808266   \n",
              "3         2420.468747  4290.940720            0.064403 -111.474846   \n",
              "4         2262.549856  4105.033511            0.069469 -106.175362   \n",
              "\n",
              "        mfcc2      mfcc3  ...      mfcc5      mfcc6      mfcc7      mfcc8  \\\n",
              "0  142.653900   6.672291  ... -24.468849  -9.787237 -20.809126  -4.317102   \n",
              "1   91.980019   4.436619  ...   6.576199  17.908369  -8.750384  17.428303   \n",
              "2  112.555992  19.847651  ...   1.331205  15.176805   4.586580  -4.689911   \n",
              "3  115.571083  18.482544  ...   5.669367  15.316985   2.354102   8.839875   \n",
              "4  112.750389   9.016710  ...  -2.695998  16.569929 -14.148991   5.439806   \n",
              "\n",
              "       mfcc9     mfcc10     mfcc11     mfcc12     mfcc13   label  \n",
              "0 -23.036829  -2.010492  -5.480192  -0.852857  -6.093732  tizita  \n",
              "1  -8.077110  31.144600 -11.995828  20.367981  -9.506892  tizita  \n",
              "2  -7.867850   7.038043 -12.388121   2.277709 -12.189073  tizita  \n",
              "3 -11.220535   2.585573  -7.786808   3.755515  -5.750423  tizita  \n",
              "4 -16.550734   2.734846 -13.582993   8.162541 -10.529911  tizita  \n",
              "\n",
              "[5 rows x 21 columns]"
            ],
            "text/html": [
              "\n",
              "  <div id=\"df-10e5678f-ebac-48bd-88d6-0ed2356fb5c4\">\n",
              "    <div class=\"colab-df-container\">\n",
              "      <div>\n",
              "<style scoped>\n",
              "    .dataframe tbody tr th:only-of-type {\n",
              "        vertical-align: middle;\n",
              "    }\n",
              "\n",
              "    .dataframe tbody tr th {\n",
              "        vertical-align: top;\n",
              "    }\n",
              "\n",
              "    .dataframe thead th {\n",
              "        text-align: right;\n",
              "    }\n",
              "</style>\n",
              "<table border=\"1\" class=\"dataframe\">\n",
              "  <thead>\n",
              "    <tr style=\"text-align: right;\">\n",
              "      <th></th>\n",
              "      <th>filename</th>\n",
              "      <th>chroma_stft</th>\n",
              "      <th>rmse</th>\n",
              "      <th>spectral_centroid</th>\n",
              "      <th>spectral_bandwidth</th>\n",
              "      <th>rolloff</th>\n",
              "      <th>zero_crossing_rate</th>\n",
              "      <th>mfcc1</th>\n",
              "      <th>mfcc2</th>\n",
              "      <th>mfcc3</th>\n",
              "      <th>...</th>\n",
              "      <th>mfcc5</th>\n",
              "      <th>mfcc6</th>\n",
              "      <th>mfcc7</th>\n",
              "      <th>mfcc8</th>\n",
              "      <th>mfcc9</th>\n",
              "      <th>mfcc10</th>\n",
              "      <th>mfcc11</th>\n",
              "      <th>mfcc12</th>\n",
              "      <th>mfcc13</th>\n",
              "      <th>label</th>\n",
              "    </tr>\n",
              "  </thead>\n",
              "  <tbody>\n",
              "    <tr>\n",
              "      <th>0</th>\n",
              "      <td>tizta_001.wav</td>\n",
              "      <td>0.247649</td>\n",
              "      <td>0.170541</td>\n",
              "      <td>1173.567698</td>\n",
              "      <td>1589.101382</td>\n",
              "      <td>1825.822293</td>\n",
              "      <td>0.050855</td>\n",
              "      <td>-175.267685</td>\n",
              "      <td>142.653900</td>\n",
              "      <td>6.672291</td>\n",
              "      <td>...</td>\n",
              "      <td>-24.468849</td>\n",
              "      <td>-9.787237</td>\n",
              "      <td>-20.809126</td>\n",
              "      <td>-4.317102</td>\n",
              "      <td>-23.036829</td>\n",
              "      <td>-2.010492</td>\n",
              "      <td>-5.480192</td>\n",
              "      <td>-0.852857</td>\n",
              "      <td>-6.093732</td>\n",
              "      <td>tizita</td>\n",
              "    </tr>\n",
              "    <tr>\n",
              "      <th>1</th>\n",
              "      <td>tizta_003.wav</td>\n",
              "      <td>0.359356</td>\n",
              "      <td>0.114772</td>\n",
              "      <td>2371.347112</td>\n",
              "      <td>2690.149684</td>\n",
              "      <td>5756.256859</td>\n",
              "      <td>0.077017</td>\n",
              "      <td>-158.201218</td>\n",
              "      <td>91.980019</td>\n",
              "      <td>4.436619</td>\n",
              "      <td>...</td>\n",
              "      <td>6.576199</td>\n",
              "      <td>17.908369</td>\n",
              "      <td>-8.750384</td>\n",
              "      <td>17.428303</td>\n",
              "      <td>-8.077110</td>\n",
              "      <td>31.144600</td>\n",
              "      <td>-11.995828</td>\n",
              "      <td>20.367981</td>\n",
              "      <td>-9.506892</td>\n",
              "      <td>tizita</td>\n",
              "    </tr>\n",
              "    <tr>\n",
              "      <th>2</th>\n",
              "      <td>tizta_002.wav</td>\n",
              "      <td>0.342325</td>\n",
              "      <td>0.191678</td>\n",
              "      <td>1858.957915</td>\n",
              "      <td>2292.546108</td>\n",
              "      <td>4072.665417</td>\n",
              "      <td>0.073601</td>\n",
              "      <td>-114.808266</td>\n",
              "      <td>112.555992</td>\n",
              "      <td>19.847651</td>\n",
              "      <td>...</td>\n",
              "      <td>1.331205</td>\n",
              "      <td>15.176805</td>\n",
              "      <td>4.586580</td>\n",
              "      <td>-4.689911</td>\n",
              "      <td>-7.867850</td>\n",
              "      <td>7.038043</td>\n",
              "      <td>-12.388121</td>\n",
              "      <td>2.277709</td>\n",
              "      <td>-12.189073</td>\n",
              "      <td>tizita</td>\n",
              "    </tr>\n",
              "    <tr>\n",
              "      <th>3</th>\n",
              "      <td>tizta_004.wav</td>\n",
              "      <td>0.357074</td>\n",
              "      <td>0.165511</td>\n",
              "      <td>1876.547246</td>\n",
              "      <td>2420.468747</td>\n",
              "      <td>4290.940720</td>\n",
              "      <td>0.064403</td>\n",
              "      <td>-111.474846</td>\n",
              "      <td>115.571083</td>\n",
              "      <td>18.482544</td>\n",
              "      <td>...</td>\n",
              "      <td>5.669367</td>\n",
              "      <td>15.316985</td>\n",
              "      <td>2.354102</td>\n",
              "      <td>8.839875</td>\n",
              "      <td>-11.220535</td>\n",
              "      <td>2.585573</td>\n",
              "      <td>-7.786808</td>\n",
              "      <td>3.755515</td>\n",
              "      <td>-5.750423</td>\n",
              "      <td>tizita</td>\n",
              "    </tr>\n",
              "    <tr>\n",
              "      <th>4</th>\n",
              "      <td>tizta_005.wav</td>\n",
              "      <td>0.279588</td>\n",
              "      <td>0.180006</td>\n",
              "      <td>1835.180973</td>\n",
              "      <td>2262.549856</td>\n",
              "      <td>4105.033511</td>\n",
              "      <td>0.069469</td>\n",
              "      <td>-106.175362</td>\n",
              "      <td>112.750389</td>\n",
              "      <td>9.016710</td>\n",
              "      <td>...</td>\n",
              "      <td>-2.695998</td>\n",
              "      <td>16.569929</td>\n",
              "      <td>-14.148991</td>\n",
              "      <td>5.439806</td>\n",
              "      <td>-16.550734</td>\n",
              "      <td>2.734846</td>\n",
              "      <td>-13.582993</td>\n",
              "      <td>8.162541</td>\n",
              "      <td>-10.529911</td>\n",
              "      <td>tizita</td>\n",
              "    </tr>\n",
              "  </tbody>\n",
              "</table>\n",
              "<p>5 rows × 21 columns</p>\n",
              "</div>\n",
              "      <button class=\"colab-df-convert\" onclick=\"convertToInteractive('df-10e5678f-ebac-48bd-88d6-0ed2356fb5c4')\"\n",
              "              title=\"Convert this dataframe to an interactive table.\"\n",
              "              style=\"display:none;\">\n",
              "        \n",
              "  <svg xmlns=\"http://www.w3.org/2000/svg\" height=\"24px\"viewBox=\"0 0 24 24\"\n",
              "       width=\"24px\">\n",
              "    <path d=\"M0 0h24v24H0V0z\" fill=\"none\"/>\n",
              "    <path d=\"M18.56 5.44l.94 2.06.94-2.06 2.06-.94-2.06-.94-.94-2.06-.94 2.06-2.06.94zm-11 1L8.5 8.5l.94-2.06 2.06-.94-2.06-.94L8.5 2.5l-.94 2.06-2.06.94zm10 10l.94 2.06.94-2.06 2.06-.94-2.06-.94-.94-2.06-.94 2.06-2.06.94z\"/><path d=\"M17.41 7.96l-1.37-1.37c-.4-.4-.92-.59-1.43-.59-.52 0-1.04.2-1.43.59L10.3 9.45l-7.72 7.72c-.78.78-.78 2.05 0 2.83L4 21.41c.39.39.9.59 1.41.59.51 0 1.02-.2 1.41-.59l7.78-7.78 2.81-2.81c.8-.78.8-2.07 0-2.86zM5.41 20L4 18.59l7.72-7.72 1.47 1.35L5.41 20z\"/>\n",
              "  </svg>\n",
              "      </button>\n",
              "      \n",
              "  <style>\n",
              "    .colab-df-container {\n",
              "      display:flex;\n",
              "      flex-wrap:wrap;\n",
              "      gap: 12px;\n",
              "    }\n",
              "\n",
              "    .colab-df-convert {\n",
              "      background-color: #E8F0FE;\n",
              "      border: none;\n",
              "      border-radius: 50%;\n",
              "      cursor: pointer;\n",
              "      display: none;\n",
              "      fill: #1967D2;\n",
              "      height: 32px;\n",
              "      padding: 0 0 0 0;\n",
              "      width: 32px;\n",
              "    }\n",
              "\n",
              "    .colab-df-convert:hover {\n",
              "      background-color: #E2EBFA;\n",
              "      box-shadow: 0px 1px 2px rgba(60, 64, 67, 0.3), 0px 1px 3px 1px rgba(60, 64, 67, 0.15);\n",
              "      fill: #174EA6;\n",
              "    }\n",
              "\n",
              "    [theme=dark] .colab-df-convert {\n",
              "      background-color: #3B4455;\n",
              "      fill: #D2E3FC;\n",
              "    }\n",
              "\n",
              "    [theme=dark] .colab-df-convert:hover {\n",
              "      background-color: #434B5C;\n",
              "      box-shadow: 0px 1px 3px 1px rgba(0, 0, 0, 0.15);\n",
              "      filter: drop-shadow(0px 1px 2px rgba(0, 0, 0, 0.3));\n",
              "      fill: #FFFFFF;\n",
              "    }\n",
              "  </style>\n",
              "\n",
              "      <script>\n",
              "        const buttonEl =\n",
              "          document.querySelector('#df-10e5678f-ebac-48bd-88d6-0ed2356fb5c4 button.colab-df-convert');\n",
              "        buttonEl.style.display =\n",
              "          google.colab.kernel.accessAllowed ? 'block' : 'none';\n",
              "\n",
              "        async function convertToInteractive(key) {\n",
              "          const element = document.querySelector('#df-10e5678f-ebac-48bd-88d6-0ed2356fb5c4');\n",
              "          const dataTable =\n",
              "            await google.colab.kernel.invokeFunction('convertToInteractive',\n",
              "                                                     [key], {});\n",
              "          if (!dataTable) return;\n",
              "\n",
              "          const docLinkHtml = 'Like what you see? Visit the ' +\n",
              "            '<a target=\"_blank\" href=https://colab.research.google.com/notebooks/data_table.ipynb>data table notebook</a>'\n",
              "            + ' to learn more about interactive tables.';\n",
              "          element.innerHTML = '';\n",
              "          dataTable['output_type'] = 'display_data';\n",
              "          await google.colab.output.renderOutput(dataTable, element);\n",
              "          const docLink = document.createElement('div');\n",
              "          docLink.innerHTML = docLinkHtml;\n",
              "          element.appendChild(docLink);\n",
              "        }\n",
              "      </script>\n",
              "    </div>\n",
              "  </div>\n",
              "  "
            ]
          },
          "metadata": {},
          "execution_count": 206
        }
      ],
      "source": [
        "import pandas as pd\n",
        "import librosa\n",
        "import numpy as np\n",
        "import matplotlib.pyplot as plt\n",
        "\n",
        "\n",
        "data = pd.read_csv('final_dataset_noise (7).csv')\n",
        "data.head()"
      ]
    },
    {
      "cell_type": "code",
      "execution_count": 207,
      "metadata": {
        "id": "Chx0rUKXRxnf",
        "colab": {
          "base_uri": "https://localhost:8080/"
        },
        "outputId": "cf33bbc0-1946-4912-cbf5-41004a4e6178"
      },
      "outputs": [
        {
          "output_type": "execute_result",
          "data": {
            "text/plain": [
              "(786, 20)"
            ]
          },
          "metadata": {},
          "execution_count": 207
        }
      ],
      "source": [
        "data = data.drop(labels='filename',axis=1)\n",
        "data.shape"
      ]
    },
    {
      "cell_type": "code",
      "execution_count": 209,
      "metadata": {
        "colab": {
          "base_uri": "https://localhost:8080/"
        },
        "id": "AEHp4L1mR0-i",
        "outputId": "6a5b69f5-aa06-4eb8-e7e4-9d10239a5924"
      },
      "outputs": [
        {
          "output_type": "stream",
          "name": "stdout",
          "text": [
            "(786, 19)\n",
            "(786,)\n"
          ]
        }
      ],
      "source": [
        "from sklearn.model_selection import train_test_split\n",
        "from sklearn.preprocessing import LabelEncoder, StandardScaler, MinMaxScaler\n",
        "\n",
        "classification_group = data.iloc[:, -1]\n",
        "convertor = LabelEncoder()\n",
        "Y = convertor.fit_transform(classification_group)\n",
        "\n",
        "\n",
        "fit = StandardScaler()\n",
        "X = fit.fit_transform(np.array(data.iloc[:, :-1], dtype = float))\n",
        "\n",
        "print(X.shape)\n",
        "print(Y.shape)\n"
      ]
    },
    {
      "cell_type": "code",
      "execution_count": 210,
      "metadata": {
        "id": "gzyyEkKOSF_E"
      },
      "outputs": [],
      "source": [
        "X_train, X_test, y_train, y_test = train_test_split(X,Y, test_size=0.2)"
      ]
    },
    {
      "cell_type": "code",
      "execution_count": 211,
      "metadata": {
        "id": "qSjLrX1DSGsd",
        "colab": {
          "base_uri": "https://localhost:8080/"
        },
        "outputId": "59d2708a-1d1c-4007-991f-85d0681c83e0"
      },
      "outputs": [
        {
          "output_type": "stream",
          "name": "stdout",
          "text": [
            "[0 2 0 2 3 1 3 1 2 2 2 0 3 1 0 3 3 0 1 3 3 3 2 2 3 3 3 2 3 1 3 2 3 2 2 2 3\n",
            " 0 3 3 3 2 3 1 2 3 1 3 2 3 2 1 2 0 2 0 2 1 0 3 1 2 0 3 1 3 3 3 1 2 0 3 2 3\n",
            " 0 1 3 2 3 3 1 3 3 1 3 1 1 3 0 1 1 0 1 0 2 0 3 3 2 3 3 1 3 2 0 0 1 3 0 0 1\n",
            " 3 0 2 3 1 2 2 1 2 0 2 1 2 2 1 0 2 3 3 0 1 0 3 0 0 0 2 1 2 3 0 0 1 3 2 3 2\n",
            " 3 0 3 1 1 0 0 3 1 1]\n"
          ]
        }
      ],
      "source": [
        "print(y_test)"
      ]
    },
    {
      "cell_type": "code",
      "source": [],
      "metadata": {
        "id": "mc4_U1bvYnW6"
      },
      "execution_count": 211,
      "outputs": []
    },
    {
      "cell_type": "markdown",
      "metadata": {
        "id": "KvN9Tl-wKPn1"
      },
      "source": [
        "#**Classification by: eXtreme Gradiet Boosting - XGBoost**"
      ]
    },
    {
      "cell_type": "code",
      "execution_count": 216,
      "metadata": {
        "colab": {
          "base_uri": "https://localhost:8080/"
        },
        "id": "v0jMEHov64og",
        "outputId": "b2483abe-c88c-439c-8cd4-17e59f9c1d89"
      },
      "outputs": [
        {
          "output_type": "execute_result",
          "data": {
            "text/plain": [
              "XGBClassifier(n_estimators=24, objective='multi:softprob')"
            ]
          },
          "metadata": {},
          "execution_count": 216
        }
      ],
      "source": [
        "from xgboost import XGBClassifier\n",
        "model = XGBClassifier(n_estimators=24)\n",
        "model.fit(X_train,y_train,eval_metric='merror')"
      ]
    },
    {
      "cell_type": "code",
      "execution_count": 217,
      "metadata": {
        "id": "lpHFwUBG-FBC"
      },
      "outputs": [],
      "source": [
        "preds = model.predict(X_test)"
      ]
    },
    {
      "cell_type": "code",
      "execution_count": 218,
      "metadata": {
        "colab": {
          "base_uri": "https://localhost:8080/"
        },
        "id": "-ByZGsoM_Ddo",
        "outputId": "74052fde-279a-455d-e105-5ca61df91406"
      },
      "outputs": [
        {
          "output_type": "stream",
          "name": "stdout",
          "text": [
            "Training accuracy: 91.56050955414013\n",
            "Testing accuracy: 83.54430379746836\n",
            "Training:\n",
            "               precision    recall  f1-score   support\n",
            "\n",
            "           0       0.96      0.88      0.92       176\n",
            "           1       0.97      0.89      0.93       126\n",
            "           2       0.88      0.92      0.90       167\n",
            "           3       0.88      0.97      0.92       159\n",
            "\n",
            "    accuracy                           0.92       628\n",
            "   macro avg       0.92      0.92      0.92       628\n",
            "weighted avg       0.92      0.92      0.92       628\n",
            "\n",
            "Testing:\n",
            "               precision    recall  f1-score   support\n",
            "\n",
            "           0       0.84      0.79      0.81        33\n",
            "           1       0.93      0.74      0.82        34\n",
            "           2       0.74      0.89      0.81        38\n",
            "           3       0.87      0.89      0.88        53\n",
            "\n",
            "    accuracy                           0.84       158\n",
            "   macro avg       0.84      0.83      0.83       158\n",
            "weighted avg       0.84      0.84      0.84       158\n",
            "\n"
          ]
        }
      ],
      "source": [
        "from sklearn.metrics import confusion_matrix, accuracy_score,classification_report\n",
        "\n",
        "y_pred_train = model.predict(X_train)\n",
        "y_pred_test = model.predict(X_test)\n",
        "target_names = sorted(set(Y))\n",
        "\n",
        "\n",
        "print(f'Training accuracy: {accuracy_score(y_train,y_pred_train) * 100}')\n",
        "print(f'Testing accuracy: {accuracy_score(y_test,y_pred_test) * 100}')\n",
        "\n",
        "print(f'Training:\\n {classification_report(y_train, y_pred_train, labels=target_names)}')\n",
        "print(f'Testing:\\n {classification_report(y_test, y_pred_test, labels=target_names)}')"
      ]
    },
    {
      "cell_type": "code",
      "execution_count": 219,
      "metadata": {
        "colab": {
          "base_uri": "https://localhost:8080/",
          "height": 554
        },
        "id": "20TepwJTAp_0",
        "outputId": "70e7a1da-130e-412c-be72-bcdc9de63b46"
      },
      "outputs": [
        {
          "output_type": "execute_result",
          "data": {
            "text/plain": [
              "<matplotlib.axes._subplots.AxesSubplot at 0x7f04a8794760>"
            ]
          },
          "metadata": {},
          "execution_count": 219
        },
        {
          "output_type": "display_data",
          "data": {
            "text/plain": [
              "<Figure size 1152x648 with 2 Axes>"
            ],
            "image/png": "[encoded data removed]"
          },
          "metadata": {
            "needs_background": "light"
          }
        }
      ],
      "source": [
        "#Confusion matrix\n",
        "import seaborn as sns\n",
        "conf_mat = confusion_matrix(y_test, y_pred_test)\n",
        "plt.figure(figsize = (16, 9))\n",
        "sns.heatmap(conf_mat/np.sum(conf_mat),cmap=\"BuPu\", fmt='.2%',annot=True, xticklabels = target_names, yticklabels = target_names )"
      ]
    },
    {
      "cell_type": "code",
      "execution_count": 219,
      "metadata": {
        "id": "QThxygr9Bqa9"
      },
      "outputs": [],
      "source": []
    },
    {
      "cell_type": "markdown",
      "metadata": {
        "id": "O665NutpJ8JV"
      },
      "source": [
        "#**Classification by: Convolutional Neural Network**"
      ]
    },
    {
      "cell_type": "code",
      "execution_count": 220,
      "metadata": {
        "id": "ewDvfDAeKvhg"
      },
      "outputs": [],
      "source": [
        "from tensorflow import keras\n",
        "from keras.models import Sequential"
      ]
    },
    {
      "cell_type": "code",
      "execution_count": 221,
      "metadata": {
        "colab": {
          "base_uri": "https://localhost:8080/"
        },
        "id": "n1eWWNjCK23N",
        "outputId": "71ffd89e-2456-4c41-a5b3-5765ba7c0f2e"
      },
      "outputs": [
        {
          "output_type": "stream",
          "name": "stdout",
          "text": [
            "Model: \"sequential_4\"\n",
            "_________________________________________________________________\n",
            " Layer (type)                Output Shape              Param #   \n",
            "=================================================================\n",
            " dense_20 (Dense)            (None, 256)               5120      \n",
            "                                                                 \n",
            " dropout_16 (Dropout)        (None, 256)               0         \n",
            "                                                                 \n",
            " dense_21 (Dense)            (None, 128)               32896     \n",
            "                                                                 \n",
            " dropout_17 (Dropout)        (None, 128)               0         \n",
            "                                                                 \n",
            " dense_22 (Dense)            (None, 64)                8256      \n",
            "                                                                 \n",
            " dropout_18 (Dropout)        (None, 64)                0         \n",
            "                                                                 \n",
            " dense_23 (Dense)            (None, 32)                2080      \n",
            "                                                                 \n",
            " dropout_19 (Dropout)        (None, 32)                0         \n",
            "                                                                 \n",
            " dense_24 (Dense)            (None, 10)                330       \n",
            "                                                                 \n",
            "=================================================================\n",
            "Total params: 48,682\n",
            "Trainable params: 48,682\n",
            "Non-trainable params: 0\n",
            "_________________________________________________________________\n",
            "None\n",
            "Epoch 1/25\n",
            "20/20 [==============================] - 1s 16ms/step - loss: 2.1684 - accuracy: 0.2006 - val_loss: 1.9033 - val_accuracy: 0.3924\n",
            "Epoch 2/25\n",
            "20/20 [==============================] - 0s 5ms/step - loss: 1.6441 - accuracy: 0.3583 - val_loss: 1.3493 - val_accuracy: 0.5063\n",
            "Epoch 3/25\n",
            "20/20 [==============================] - 0s 5ms/step - loss: 1.3694 - accuracy: 0.4299 - val_loss: 1.1151 - val_accuracy: 0.6266\n",
            "Epoch 4/25\n",
            "20/20 [==============================] - 0s 6ms/step - loss: 1.1494 - accuracy: 0.5318 - val_loss: 0.9533 - val_accuracy: 0.7215\n",
            "Epoch 5/25\n",
            "20/20 [==============================] - 0s 6ms/step - loss: 0.9859 - accuracy: 0.6083 - val_loss: 0.8160 - val_accuracy: 0.7532\n",
            "Epoch 6/25\n",
            "20/20 [==============================] - 0s 6ms/step - loss: 0.7965 - accuracy: 0.7006 - val_loss: 0.6645 - val_accuracy: 0.7722\n",
            "Epoch 7/25\n",
            "20/20 [==============================] - 0s 6ms/step - loss: 0.6877 - accuracy: 0.7452 - val_loss: 0.5709 - val_accuracy: 0.8101\n",
            "Epoch 8/25\n",
            "20/20 [==============================] - 0s 6ms/step - loss: 0.6441 - accuracy: 0.7771 - val_loss: 0.5304 - val_accuracy: 0.8101\n",
            "Epoch 9/25\n",
            "20/20 [==============================] - 0s 5ms/step - loss: 0.5784 - accuracy: 0.8073 - val_loss: 0.4441 - val_accuracy: 0.8165\n",
            "Epoch 10/25\n",
            "20/20 [==============================] - 0s 5ms/step - loss: 0.4806 - accuracy: 0.8424 - val_loss: 0.4093 - val_accuracy: 0.8418\n",
            "Epoch 11/25\n",
            "20/20 [==============================] - 0s 6ms/step - loss: 0.4480 - accuracy: 0.8424 - val_loss: 0.3838 - val_accuracy: 0.8671\n",
            "Epoch 12/25\n",
            "20/20 [==============================] - 0s 6ms/step - loss: 0.3541 - accuracy: 0.8742 - val_loss: 0.3980 - val_accuracy: 0.8671\n",
            "Epoch 13/25\n",
            "20/20 [==============================] - 0s 5ms/step - loss: 0.3757 - accuracy: 0.8662 - val_loss: 0.3614 - val_accuracy: 0.8924\n",
            "Epoch 14/25\n",
            "20/20 [==============================] - 0s 6ms/step - loss: 0.3198 - accuracy: 0.8965 - val_loss: 0.3339 - val_accuracy: 0.8924\n",
            "Epoch 15/25\n",
            "20/20 [==============================] - 0s 7ms/step - loss: 0.2816 - accuracy: 0.8997 - val_loss: 0.3223 - val_accuracy: 0.9241\n",
            "Epoch 16/25\n",
            "20/20 [==============================] - 0s 8ms/step - loss: 0.2565 - accuracy: 0.9124 - val_loss: 0.3434 - val_accuracy: 0.9241\n",
            "Epoch 17/25\n",
            "20/20 [==============================] - 0s 6ms/step - loss: 0.2430 - accuracy: 0.9236 - val_loss: 0.3278 - val_accuracy: 0.8987\n",
            "Epoch 18/25\n",
            "20/20 [==============================] - 0s 6ms/step - loss: 0.2341 - accuracy: 0.9347 - val_loss: 0.3114 - val_accuracy: 0.9114\n",
            "Epoch 19/25\n",
            "20/20 [==============================] - 0s 5ms/step - loss: 0.2077 - accuracy: 0.9268 - val_loss: 0.3069 - val_accuracy: 0.9051\n",
            "Epoch 20/25\n",
            "20/20 [==============================] - 0s 6ms/step - loss: 0.1951 - accuracy: 0.9331 - val_loss: 0.3671 - val_accuracy: 0.9114\n",
            "Epoch 21/25\n",
            "20/20 [==============================] - 0s 6ms/step - loss: 0.1908 - accuracy: 0.9331 - val_loss: 0.3311 - val_accuracy: 0.9051\n",
            "Epoch 22/25\n",
            "20/20 [==============================] - 0s 5ms/step - loss: 0.1534 - accuracy: 0.9411 - val_loss: 0.3315 - val_accuracy: 0.8987\n",
            "Epoch 23/25\n",
            "20/20 [==============================] - 0s 6ms/step - loss: 0.1554 - accuracy: 0.9506 - val_loss: 0.3445 - val_accuracy: 0.9051\n",
            "Epoch 24/25\n",
            "20/20 [==============================] - 0s 6ms/step - loss: 0.1461 - accuracy: 0.9586 - val_loss: 0.3821 - val_accuracy: 0.9241\n",
            "Epoch 25/25\n",
            "20/20 [==============================] - 0s 6ms/step - loss: 0.1760 - accuracy: 0.9379 - val_loss: 0.3800 - val_accuracy: 0.8924\n"
          ]
        }
      ],
      "source": [
        "model = keras.models.Sequential([\n",
        "    keras.layers.Dense(256, activation=\"relu\", input_shape=(X_train.shape[1],)),\n",
        "    keras.layers.Dropout(0.2),\n",
        "    \n",
        "    keras.layers.Dense(128,activation=\"relu\"),\n",
        "    keras.layers.Dropout(0.2),\n",
        "    \n",
        "    keras.layers.Dense(64,activation=\"relu\"),\n",
        "    keras.layers.Dropout(0.2),\n",
        "    \n",
        "    keras.layers.Dense(32,activation=\"relu\"),\n",
        "    keras.layers.Dropout(0.2),\n",
        "    \n",
        "    keras.layers.Dense(10, activation=\"softmax\"),\n",
        "    \n",
        "])\n",
        "print(model.summary())\n",
        "batch_size = 32\n",
        "model.compile(optimizer='adam',\n",
        "                  loss='sparse_categorical_crossentropy',\n",
        "                   metrics='accuracy'\n",
        "    )\n",
        "model_history = model.fit(X_train, y_train, validation_data=(X_test, y_test), epochs = 25, \n",
        "                     batch_size=batch_size)"
      ]
    },
    {
      "cell_type": "code",
      "execution_count": 222,
      "metadata": {
        "colab": {
          "base_uri": "https://localhost:8080/"
        },
        "id": "zDJd6DL7LFHr",
        "outputId": "cb3bb7bd-e083-4a73-fda8-b28d819c80c3"
      },
      "outputs": [
        {
          "output_type": "stream",
          "name": "stdout",
          "text": [
            "5/5 [==============================] - 0s 3ms/step - loss: 0.3800 - accuracy: 0.8924\n",
            "The test loss is : 0.38003408908843994\n",
            "\n",
            "The test Accuracy is : 89.2405092716217\n"
          ]
        }
      ],
      "source": [
        "test_loss, test_accuracy = model.evaluate(X_test, y_test, batch_size=32)\n",
        "print(\"The test loss is :\",test_loss)\n",
        "print(\"\\nThe test Accuracy is :\",test_accuracy*100)"
      ]
    },
    {
      "cell_type": "code",
      "source": [],
      "metadata": {
        "id": "D4Dkr-xgoRaD"
      },
      "execution_count": 222,
      "outputs": []
    },
    {
      "cell_type": "markdown",
      "metadata": {
        "id": "sg5Rnm_mKgFJ"
      },
      "source": [
        "#**Classification by: Random Forest Classifier**"
      ]
    },
    {
      "cell_type": "code",
      "execution_count": 223,
      "metadata": {
        "colab": {
          "base_uri": "https://localhost:8080/"
        },
        "id": "T9q8xMhTIk4d",
        "outputId": "5940de44-ca05-4c39-eefc-736bd1865bad"
      },
      "outputs": [
        {
          "output_type": "execute_result",
          "data": {
            "text/plain": [
              "RandomForestClassifier(max_leaf_nodes=16, n_estimators=16, n_jobs=-1,\n",
              "                       random_state=42)"
            ]
          },
          "metadata": {},
          "execution_count": 223
        }
      ],
      "source": [
        "from sklearn.ensemble import RandomForestClassifier\n",
        "\n",
        "forest = RandomForestClassifier(random_state=42, n_estimators=16, max_leaf_nodes=16, n_jobs=-1)\n",
        "forest.fit(X_train, y_train)\n"
      ]
    },
    {
      "cell_type": "code",
      "execution_count": 224,
      "metadata": {
        "colab": {
          "base_uri": "https://localhost:8080/"
        },
        "id": "FwDf7dgZIs3t",
        "outputId": "8394c4ae-050f-4224-98da-e36e927edf59"
      },
      "outputs": [
        {
          "output_type": "stream",
          "name": "stdout",
          "text": [
            "Training accuracy: 0.8805732484076433\n",
            "Testing accuracy: 0.8354430379746836\n",
            "Training:\n",
            "               precision    recall  f1-score   support\n",
            "\n",
            "           0       0.96      0.88      0.92       176\n",
            "           1       0.97      0.89      0.93       126\n",
            "           2       0.88      0.92      0.90       167\n",
            "           3       0.88      0.97      0.92       159\n",
            "\n",
            "    accuracy                           0.92       628\n",
            "   macro avg       0.92      0.92      0.92       628\n",
            "weighted avg       0.92      0.92      0.92       628\n",
            "\n",
            "Testing:\n",
            "               precision    recall  f1-score   support\n",
            "\n",
            "           0       0.84      0.79      0.81        33\n",
            "           1       0.93      0.74      0.82        34\n",
            "           2       0.74      0.89      0.81        38\n",
            "           3       0.87      0.89      0.88        53\n",
            "\n",
            "    accuracy                           0.84       158\n",
            "   macro avg       0.84      0.83      0.83       158\n",
            "weighted avg       0.84      0.84      0.84       158\n",
            "\n"
          ]
        }
      ],
      "source": [
        "y_pred_train2 = forest.predict(X_train)\n",
        "y_pred_test2 = forest.predict(X_test)\n",
        "target_names2 = sorted(set(Y))\n",
        "\n",
        "\n",
        "print(f'Training accuracy: {accuracy_score(y_train,y_pred_train2)}')\n",
        "print(f'Testing accuracy: {accuracy_score(y_test,y_pred_test2)}')\n",
        "\n",
        "print(f'Training:\\n {classification_report(y_train, y_pred_train, labels=target_names)}')\n",
        "print(f'Testing:\\n {classification_report(y_test, y_pred_test, labels=target_names)}')"
      ]
    },
    {
      "cell_type": "code",
      "execution_count": 225,
      "metadata": {
        "colab": {
          "base_uri": "https://localhost:8080/",
          "height": 554
        },
        "id": "af67kyG7JqcU",
        "outputId": "9d1523ee-a9bf-4527-b550-19dab9e2b2d0"
      },
      "outputs": [
        {
          "output_type": "execute_result",
          "data": {
            "text/plain": [
              "<matplotlib.axes._subplots.AxesSubplot at 0x7f04a8500640>"
            ]
          },
          "metadata": {},
          "execution_count": 225
        },
        {
          "output_type": "display_data",
          "data": {
            "text/plain": [
              "<Figure size 1152x648 with 2 Axes>"
            ],
            "image/png": "[encoded data removed]"
          },
          "metadata": {
            "needs_background": "light"
          }
        }
      ],
      "source": [
        "#Confusion matrix\n",
        "conf_mat2 = confusion_matrix(y_test, y_pred_test2)\n",
        "plt.figure(figsize = (16, 9))\n",
        "sns.heatmap(conf_mat2/np.sum(conf_mat2),cmap=\"BuPu\", fmt='.2%',annot=True, xticklabels = target_names, yticklabels = target_names )"
      ]
    },
    {
      "cell_type": "code",
      "execution_count": 225,
      "metadata": {
        "id": "8DXG0nZ0WSBt"
      },
      "outputs": [],
      "source": []
    },
    {
      "cell_type": "markdown",
      "metadata": {
        "id": "LE8glPp0SnzW"
      },
      "source": [
        "#**ROC CURVE**"
      ]
    },
    {
      "cell_type": "code",
      "execution_count": 226,
      "metadata": {
        "id": "_KQK6GUISrx-"
      },
      "outputs": [],
      "source": [
        "from sklearn.metrics import auc, roc_curve\n",
        "from sklearn.preprocessing import label_binarize\n",
        "\n",
        "pred_prob = forest.predict_proba(X_test)\n",
        "y_bin = label_binarize(y_test,classes=np.unique(y_test))"
      ]
    },
    {
      "cell_type": "code",
      "execution_count": 227,
      "metadata": {
        "colab": {
          "base_uri": "https://localhost:8080/",
          "height": 295
        },
        "id": "HX9ThpHXS_rD",
        "outputId": "4906c580-1d9a-4467-dfc6-5908cf993f53"
      },
      "outputs": [
        {
          "output_type": "display_data",
          "data": {
            "text/plain": [
              "<Figure size 432x288 with 1 Axes>"
            ],
            "image/png": "[encoded data removed]"
          },
          "metadata": {
            "needs_background": "light"
          }
        }
      ],
      "source": [
        "fpr = {}\n",
        "tpr = {}\n",
        "thresh ={}\n",
        "roc_auc = dict()\n",
        "\n",
        "n_class = 4\n",
        "classes = [i for i in range(4)]\n",
        "\n",
        "for i in range(n_class):    \n",
        "    fpr[i], tpr[i], thresh[i] = roc_curve(y_bin[:,i], pred_prob[:,i])\n",
        "    roc_auc[i] = auc(fpr[i], tpr[i])\n",
        "    plt.plot(fpr[i], tpr[i], linestyle='-', label='%s vs Rest (AUC=%0.2f)'%(classes[i],roc_auc[i]))\n",
        "\n",
        "plt.plot([0,1],[0,1],'b-')\n",
        "plt.xlim([0,1])\n",
        "plt.ylim([0,1.05])\n",
        "plt.title('Multiclass ROC curve')\n",
        "plt.xlabel('False Positive')\n",
        "plt.ylabel('True Positive')\n",
        "plt.legend(loc='lower right')\n",
        "plt.show()\n"
      ]
    },
    {
      "cell_type": "code",
      "source": [],
      "metadata": {
        "id": "aHunme0toiCQ"
      },
      "execution_count": 227,
      "outputs": []
    },
    {
      "cell_type": "markdown",
      "metadata": {
        "id": "WwQnJkAISWNf"
      },
      "source": [
        "#**Feature Importance**"
      ]
    },
    {
      "cell_type": "code",
      "execution_count": 228,
      "metadata": {
        "id": "0B-uyft-NboR",
        "colab": {
          "base_uri": "https://localhost:8080/"
        },
        "outputId": "5e75100d-6af5-41c6-b23b-d16dc7cbfbd1"
      },
      "outputs": [
        {
          "output_type": "stream",
          "name": "stdout",
          "text": [
            "Looking in indexes: https://pypi.org/simple, https://us-python.pkg.dev/colab-wheels/public/simple/\n",
            "Requirement already satisfied: shap in /usr/local/lib/python3.8/dist-packages (0.41.0)\n",
            "Requirement already satisfied: pandas in /usr/local/lib/python3.8/dist-packages (from shap) (1.3.5)\n",
            "Requirement already satisfied: scipy in /usr/local/lib/python3.8/dist-packages (from shap) (1.7.3)\n",
            "Requirement already satisfied: cloudpickle in /usr/local/lib/python3.8/dist-packages (from shap) (2.2.0)\n",
            "Requirement already satisfied: tqdm>4.25.0 in /usr/local/lib/python3.8/dist-packages (from shap) (4.64.1)\n",
            "Requirement already satisfied: numpy in /usr/local/lib/python3.8/dist-packages (from shap) (1.21.6)\n",
            "Requirement already satisfied: packaging>20.9 in /usr/local/lib/python3.8/dist-packages (from shap) (21.3)\n",
            "Requirement already satisfied: scikit-learn in /usr/local/lib/python3.8/dist-packages (from shap) (1.0.2)\n",
            "Requirement already satisfied: numba in /usr/local/lib/python3.8/dist-packages (from shap) (0.56.4)\n",
            "Requirement already satisfied: slicer==0.0.7 in /usr/local/lib/python3.8/dist-packages (from shap) (0.0.7)\n",
            "Requirement already satisfied: pyparsing!=3.0.5,>=2.0.2 in /usr/local/lib/python3.8/dist-packages (from packaging>20.9->shap) (3.0.9)\n",
            "Requirement already satisfied: importlib-metadata in /usr/local/lib/python3.8/dist-packages (from numba->shap) (6.0.0)\n",
            "Requirement already satisfied: llvmlite<0.40,>=0.39.0dev0 in /usr/local/lib/python3.8/dist-packages (from numba->shap) (0.39.1)\n",
            "Requirement already satisfied: setuptools in /usr/local/lib/python3.8/dist-packages (from numba->shap) (57.4.0)\n",
            "Requirement already satisfied: pytz>=2017.3 in /usr/local/lib/python3.8/dist-packages (from pandas->shap) (2022.7)\n",
            "Requirement already satisfied: python-dateutil>=2.7.3 in /usr/local/lib/python3.8/dist-packages (from pandas->shap) (2.8.2)\n",
            "Requirement already satisfied: joblib>=0.11 in /usr/local/lib/python3.8/dist-packages (from scikit-learn->shap) (1.2.0)\n",
            "Requirement already satisfied: threadpoolctl>=2.0.0 in /usr/local/lib/python3.8/dist-packages (from scikit-learn->shap) (3.1.0)\n",
            "Requirement already satisfied: six>=1.5 in /usr/local/lib/python3.8/dist-packages (from python-dateutil>=2.7.3->pandas->shap) (1.15.0)\n",
            "Requirement already satisfied: zipp>=0.5 in /usr/local/lib/python3.8/dist-packages (from importlib-metadata->numba->shap) (3.11.0)\n"
          ]
        }
      ],
      "source": [
        "forest.feature_importances_\n",
        "!pip install shap"
      ]
    },
    {
      "cell_type": "code",
      "execution_count": 229,
      "metadata": {
        "id": "eFjPbacOQCw7"
      },
      "outputs": [],
      "source": [
        "\n",
        "import shap\n",
        "explainer = shap.TreeExplainer(forest)\n",
        "shap_values = explainer.shap_values(X_test)"
      ]
    },
    {
      "cell_type": "code",
      "execution_count": 230,
      "metadata": {
        "id": "UKT9Dx3COmSg",
        "colab": {
          "base_uri": "https://localhost:8080/",
          "height": 664
        },
        "outputId": "50d51ab7-237e-4739-bb0d-4af8444a7583"
      },
      "outputs": [
        {
          "output_type": "display_data",
          "data": {
            "text/plain": [
              "<Figure size 576x655.2 with 1 Axes>"
            ],
            "image/png": "[encoded data removed]"
          },
          "metadata": {
            "needs_background": "light"
          }
        }
      ],
      "source": [
        "shap.summary_plot(shap_values, X_test, plot_type=\"bar\")"
      ]
    }
  ],
  "metadata": {
    "colab": {
      "provenance": [],
      "authorship_tag": "ABX9TyPk48cg5BwvIb2Rs2nYXkl7",
      "include_colab_link": true
    },
    "kernelspec": {
      "display_name": "Python 3",
      "name": "python3"
    },
    "language_info": {
      "name": "python"
    }
  },
  "nbformat": 4,
  "nbformat_minor": 0
}