{
  "cells": [
    {
      "cell_type": "markdown",
      "metadata": {
        "id": "view-in-github",
        "colab_type": "text"
      },
      "source": [
        "<a href=\"https://colab.research.google.com/github/Mr-MaNia7/genus/blob/version1/Algorithms_%26_Models.ipynb\" target=\"_parent\"><img src=\"https://colab.research.google.com/assets/colab-badge.svg\" alt=\"Open In Colab\"/></a>"
      ]
    },
    {
      "cell_type": "code",
      "execution_count": 61,
      "metadata": {
        "colab": {
          "base_uri": "https://localhost:8080/"
        },
        "id": "lbKpZXgwRdSY",
        "outputId": "29ab706b-9414-488e-a515-d6010d1ea181"
      },
      "outputs": [
        {
          "output_type": "stream",
          "name": "stdout",
          "text": [
            "Drive already mounted at /content/drive; to attempt to forcibly remount, call drive.mount(\"/content/drive\", force_remount=True).\n"
          ]
        }
      ],
      "source": [
        "from google.colab import drive\n",
        "drive.mount('/content/drive')"
      ]
    },
    {
      "cell_type": "markdown",
      "metadata": {
        "id": "YPCcZawnRrd9"
      },
      "source": [
        "#**Pre**\n"
      ]
    },
    {
      "cell_type": "code",
      "execution_count": 1,
      "metadata": {
        "colab": {
          "base_uri": "https://localhost:8080/",
          "height": 300
        },
        "id": "WeCYYKafRv4T",
        "outputId": "5ad36447-60a9-48eb-86de-9b841a0bbfa8"
      },
      "outputs": [
        {
          "output_type": "execute_result",
          "data": {
            "text/plain": [
              "        filename  chroma_stft      rmse  spectral_centroid  \\\n",
              "0  tizta_001.wav     0.247649  0.170541        1173.567698   \n",
              "1  tizta_003.wav     0.359356  0.114772        2371.347112   \n",
              "2  tizta_002.wav     0.342325  0.191678        1858.957915   \n",
              "3  tizta_004.wav     0.357074  0.165511        1876.547246   \n",
              "4  tizta_005.wav     0.279588  0.180006        1835.180973   \n",
              "\n",
              "   spectral_bandwidth      rolloff  zero_crossing_rate       mfcc1  \\\n",
              "0         1589.101382  1825.822293            0.050855 -175.267685   \n",
              "1         2690.149684  5756.256859            0.077017 -158.201218   \n",
              "2         2292.546108  4072.665417            0.073601 -114.808266   \n",
              "3         2420.468747  4290.940720            0.064403 -111.474846   \n",
              "4         2262.549856  4105.033511            0.069469 -106.175362   \n",
              "\n",
              "        mfcc2      mfcc3  ...      mfcc5      mfcc6      mfcc7      mfcc8  \\\n",
              "0  142.653900   6.672291  ... -24.468849  -9.787237 -20.809126  -4.317102   \n",
              "1   91.980019   4.436619  ...   6.576199  17.908369  -8.750384  17.428303   \n",
              "2  112.555992  19.847651  ...   1.331205  15.176805   4.586580  -4.689911   \n",
              "3  115.571083  18.482544  ...   5.669367  15.316985   2.354102   8.839875   \n",
              "4  112.750389   9.016710  ...  -2.695998  16.569929 -14.148991   5.439806   \n",
              "\n",
              "       mfcc9     mfcc10     mfcc11     mfcc12     mfcc13   label  \n",
              "0 -23.036829  -2.010492  -5.480192  -0.852857  -6.093732  tizita  \n",
              "1  -8.077110  31.144600 -11.995828  20.367981  -9.506892  tizita  \n",
              "2  -7.867850   7.038043 -12.388121   2.277709 -12.189073  tizita  \n",
              "3 -11.220535   2.585573  -7.786808   3.755515  -5.750423  tizita  \n",
              "4 -16.550734   2.734846 -13.582993   8.162541 -10.529911  tizita  \n",
              "\n",
              "[5 rows x 21 columns]"
            ],
            "text/html": [
              "\n",
              "  <div id=\"df-48800be0-1a85-41bb-84b9-d84e809338ad\">\n",
              "    <div class=\"colab-df-container\">\n",
              "      <div>\n",
              "<style scoped>\n",
              "    .dataframe tbody tr th:only-of-type {\n",
              "        vertical-align: middle;\n",
              "    }\n",
              "\n",
              "    .dataframe tbody tr th {\n",
              "        vertical-align: top;\n",
              "    }\n",
              "\n",
              "    .dataframe thead th {\n",
              "        text-align: right;\n",
              "    }\n",
              "</style>\n",
              "<table border=\"1\" class=\"dataframe\">\n",
              "  <thead>\n",
              "    <tr style=\"text-align: right;\">\n",
              "      <th></th>\n",
              "      <th>filename</th>\n",
              "      <th>chroma_stft</th>\n",
              "      <th>rmse</th>\n",
              "      <th>spectral_centroid</th>\n",
              "      <th>spectral_bandwidth</th>\n",
              "      <th>rolloff</th>\n",
              "      <th>zero_crossing_rate</th>\n",
              "      <th>mfcc1</th>\n",
              "      <th>mfcc2</th>\n",
              "      <th>mfcc3</th>\n",
              "      <th>...</th>\n",
              "      <th>mfcc5</th>\n",
              "      <th>mfcc6</th>\n",
              "      <th>mfcc7</th>\n",
              "      <th>mfcc8</th>\n",
              "      <th>mfcc9</th>\n",
              "      <th>mfcc10</th>\n",
              "      <th>mfcc11</th>\n",
              "      <th>mfcc12</th>\n",
              "      <th>mfcc13</th>\n",
              "      <th>label</th>\n",
              "    </tr>\n",
              "  </thead>\n",
              "  <tbody>\n",
              "    <tr>\n",
              "      <th>0</th>\n",
              "      <td>tizta_001.wav</td>\n",
              "      <td>0.247649</td>\n",
              "      <td>0.170541</td>\n",
              "      <td>1173.567698</td>\n",
              "      <td>1589.101382</td>\n",
              "      <td>1825.822293</td>\n",
              "      <td>0.050855</td>\n",
              "      <td>-175.267685</td>\n",
              "      <td>142.653900</td>\n",
              "      <td>6.672291</td>\n",
              "      <td>...</td>\n",
              "      <td>-24.468849</td>\n",
              "      <td>-9.787237</td>\n",
              "      <td>-20.809126</td>\n",
              "      <td>-4.317102</td>\n",
              "      <td>-23.036829</td>\n",
              "      <td>-2.010492</td>\n",
              "      <td>-5.480192</td>\n",
              "      <td>-0.852857</td>\n",
              "      <td>-6.093732</td>\n",
              "      <td>tizita</td>\n",
              "    </tr>\n",
              "    <tr>\n",
              "      <th>1</th>\n",
              "      <td>tizta_003.wav</td>\n",
              "      <td>0.359356</td>\n",
              "      <td>0.114772</td>\n",
              "      <td>2371.347112</td>\n",
              "      <td>2690.149684</td>\n",
              "      <td>5756.256859</td>\n",
              "      <td>0.077017</td>\n",
              "      <td>-158.201218</td>\n",
              "      <td>91.980019</td>\n",
              "      <td>4.436619</td>\n",
              "      <td>...</td>\n",
              "      <td>6.576199</td>\n",
              "      <td>17.908369</td>\n",
              "      <td>-8.750384</td>\n",
              "      <td>17.428303</td>\n",
              "      <td>-8.077110</td>\n",
              "      <td>31.144600</td>\n",
              "      <td>-11.995828</td>\n",
              "      <td>20.367981</td>\n",
              "      <td>-9.506892</td>\n",
              "      <td>tizita</td>\n",
              "    </tr>\n",
              "    <tr>\n",
              "      <th>2</th>\n",
              "      <td>tizta_002.wav</td>\n",
              "      <td>0.342325</td>\n",
              "      <td>0.191678</td>\n",
              "      <td>1858.957915</td>\n",
              "      <td>2292.546108</td>\n",
              "      <td>4072.665417</td>\n",
              "      <td>0.073601</td>\n",
              "      <td>-114.808266</td>\n",
              "      <td>112.555992</td>\n",
              "      <td>19.847651</td>\n",
              "      <td>...</td>\n",
              "      <td>1.331205</td>\n",
              "      <td>15.176805</td>\n",
              "      <td>4.586580</td>\n",
              "      <td>-4.689911</td>\n",
              "      <td>-7.867850</td>\n",
              "      <td>7.038043</td>\n",
              "      <td>-12.388121</td>\n",
              "      <td>2.277709</td>\n",
              "      <td>-12.189073</td>\n",
              "      <td>tizita</td>\n",
              "    </tr>\n",
              "    <tr>\n",
              "      <th>3</th>\n",
              "      <td>tizta_004.wav</td>\n",
              "      <td>0.357074</td>\n",
              "      <td>0.165511</td>\n",
              "      <td>1876.547246</td>\n",
              "      <td>2420.468747</td>\n",
              "      <td>4290.940720</td>\n",
              "      <td>0.064403</td>\n",
              "      <td>-111.474846</td>\n",
              "      <td>115.571083</td>\n",
              "      <td>18.482544</td>\n",
              "      <td>...</td>\n",
              "      <td>5.669367</td>\n",
              "      <td>15.316985</td>\n",
              "      <td>2.354102</td>\n",
              "      <td>8.839875</td>\n",
              "      <td>-11.220535</td>\n",
              "      <td>2.585573</td>\n",
              "      <td>-7.786808</td>\n",
              "      <td>3.755515</td>\n",
              "      <td>-5.750423</td>\n",
              "      <td>tizita</td>\n",
              "    </tr>\n",
              "    <tr>\n",
              "      <th>4</th>\n",
              "      <td>tizta_005.wav</td>\n",
              "      <td>0.279588</td>\n",
              "      <td>0.180006</td>\n",
              "      <td>1835.180973</td>\n",
              "      <td>2262.549856</td>\n",
              "      <td>4105.033511</td>\n",
              "      <td>0.069469</td>\n",
              "      <td>-106.175362</td>\n",
              "      <td>112.750389</td>\n",
              "      <td>9.016710</td>\n",
              "      <td>...</td>\n",
              "      <td>-2.695998</td>\n",
              "      <td>16.569929</td>\n",
              "      <td>-14.148991</td>\n",
              "      <td>5.439806</td>\n",
              "      <td>-16.550734</td>\n",
              "      <td>2.734846</td>\n",
              "      <td>-13.582993</td>\n",
              "      <td>8.162541</td>\n",
              "      <td>-10.529911</td>\n",
              "      <td>tizita</td>\n",
              "    </tr>\n",
              "  </tbody>\n",
              "</table>\n",
              "<p>5 rows × 21 columns</p>\n",
              "</div>\n",
              "      <button class=\"colab-df-convert\" onclick=\"convertToInteractive('df-48800be0-1a85-41bb-84b9-d84e809338ad')\"\n",
              "              title=\"Convert this dataframe to an interactive table.\"\n",
              "              style=\"display:none;\">\n",
              "        \n",
              "  <svg xmlns=\"http://www.w3.org/2000/svg\" height=\"24px\"viewBox=\"0 0 24 24\"\n",
              "       width=\"24px\">\n",
              "    <path d=\"M0 0h24v24H0V0z\" fill=\"none\"/>\n",
              "    <path d=\"M18.56 5.44l.94 2.06.94-2.06 2.06-.94-2.06-.94-.94-2.06-.94 2.06-2.06.94zm-11 1L8.5 8.5l.94-2.06 2.06-.94-2.06-.94L8.5 2.5l-.94 2.06-2.06.94zm10 10l.94 2.06.94-2.06 2.06-.94-2.06-.94-.94-2.06-.94 2.06-2.06.94z\"/><path d=\"M17.41 7.96l-1.37-1.37c-.4-.4-.92-.59-1.43-.59-.52 0-1.04.2-1.43.59L10.3 9.45l-7.72 7.72c-.78.78-.78 2.05 0 2.83L4 21.41c.39.39.9.59 1.41.59.51 0 1.02-.2 1.41-.59l7.78-7.78 2.81-2.81c.8-.78.8-2.07 0-2.86zM5.41 20L4 18.59l7.72-7.72 1.47 1.35L5.41 20z\"/>\n",
              "  </svg>\n",
              "      </button>\n",
              "      \n",
              "  <style>\n",
              "    .colab-df-container {\n",
              "      display:flex;\n",
              "      flex-wrap:wrap;\n",
              "      gap: 12px;\n",
              "    }\n",
              "\n",
              "    .colab-df-convert {\n",
              "      background-color: #E8F0FE;\n",
              "      border: none;\n",
              "      border-radius: 50%;\n",
              "      cursor: pointer;\n",
              "      display: none;\n",
              "      fill: #1967D2;\n",
              "      height: 32px;\n",
              "      padding: 0 0 0 0;\n",
              "      width: 32px;\n",
              "    }\n",
              "\n",
              "    .colab-df-convert:hover {\n",
              "      background-color: #E2EBFA;\n",
              "      box-shadow: 0px 1px 2px rgba(60, 64, 67, 0.3), 0px 1px 3px 1px rgba(60, 64, 67, 0.15);\n",
              "      fill: #174EA6;\n",
              "    }\n",
              "\n",
              "    [theme=dark] .colab-df-convert {\n",
              "      background-color: #3B4455;\n",
              "      fill: #D2E3FC;\n",
              "    }\n",
              "\n",
              "    [theme=dark] .colab-df-convert:hover {\n",
              "      background-color: #434B5C;\n",
              "      box-shadow: 0px 1px 3px 1px rgba(0, 0, 0, 0.15);\n",
              "      filter: drop-shadow(0px 1px 2px rgba(0, 0, 0, 0.3));\n",
              "      fill: #FFFFFF;\n",
              "    }\n",
              "  </style>\n",
              "\n",
              "      <script>\n",
              "        const buttonEl =\n",
              "          document.querySelector('#df-48800be0-1a85-41bb-84b9-d84e809338ad button.colab-df-convert');\n",
              "        buttonEl.style.display =\n",
              "          google.colab.kernel.accessAllowed ? 'block' : 'none';\n",
              "\n",
              "        async function convertToInteractive(key) {\n",
              "          const element = document.querySelector('#df-48800be0-1a85-41bb-84b9-d84e809338ad');\n",
              "          const dataTable =\n",
              "            await google.colab.kernel.invokeFunction('convertToInteractive',\n",
              "                                                     [key], {});\n",
              "          if (!dataTable) return;\n",
              "\n",
              "          const docLinkHtml = 'Like what you see? Visit the ' +\n",
              "            '<a target=\"_blank\" href=https://colab.research.google.com/notebooks/data_table.ipynb>data table notebook</a>'\n",
              "            + ' to learn more about interactive tables.';\n",
              "          element.innerHTML = '';\n",
              "          dataTable['output_type'] = 'display_data';\n",
              "          await google.colab.output.renderOutput(dataTable, element);\n",
              "          const docLink = document.createElement('div');\n",
              "          docLink.innerHTML = docLinkHtml;\n",
              "          element.appendChild(docLink);\n",
              "        }\n",
              "      </script>\n",
              "    </div>\n",
              "  </div>\n",
              "  "
            ]
          },
          "metadata": {},
          "execution_count": 1
        }
      ],
      "source": [
        "import pandas as pd\n",
        "import librosa\n",
        "import numpy as np\n",
        "import matplotlib.pyplot as plt\n",
        "\n",
        "\n",
        "data = pd.read_csv('final_dataset_noise (7).csv')\n",
        "data.head()"
      ]
    },
    {
      "cell_type": "code",
      "execution_count": 2,
      "metadata": {
        "id": "Chx0rUKXRxnf"
      },
      "outputs": [],
      "source": [
        "data = data.drop(labels='filename',axis=1)"
      ]
    },
    {
      "cell_type": "code",
      "execution_count": 102,
      "metadata": {
        "colab": {
          "base_uri": "https://localhost:8080/"
        },
        "id": "AEHp4L1mR0-i",
        "outputId": "e15b6aab-6e11-4e7e-c75a-056522d7f9d6"
      },
      "outputs": [
        {
          "output_type": "stream",
          "name": "stdout",
          "text": [
            "(786, 19)\n",
            "(786,)\n"
          ]
        }
      ],
      "source": [
        "from sklearn.model_selection import train_test_split\n",
        "from sklearn.preprocessing import LabelEncoder, StandardScaler\n",
        "\n",
        "classification_group = data.iloc[:, -1]\n",
        "convertor = LabelEncoder()\n",
        "Y = convertor.fit_transform(classification_group)\n",
        "\n",
        "\n",
        "fit = StandardScaler()\n",
        "X = fit.fit_transform(np.array(data.iloc[:, :-1], dtype = float))\n",
        "print(X.shape)\n",
        "print(Y.shape)\n"
      ]
    },
    {
      "cell_type": "code",
      "execution_count": 103,
      "metadata": {
        "id": "gzyyEkKOSF_E"
      },
      "outputs": [],
      "source": [
        "X_train, X_test, y_train, y_test = train_test_split(X,Y, test_size=0.3)"
      ]
    },
    {
      "cell_type": "code",
      "execution_count": 9,
      "metadata": {
        "id": "qSjLrX1DSGsd",
        "colab": {
          "base_uri": "https://localhost:8080/"
        },
        "outputId": "d6efcf9d-76ca-4f80-eff7-b903030d8f36"
      },
      "outputs": [
        {
          "output_type": "stream",
          "name": "stdout",
          "text": [
            "[2 3 0 0 0 1 3 0 2 1 2 0 2 0 2 0 3 3 1 3 1 1 2 0 2 0 0 1 3 0 3 2 2 2 2 1 0\n",
            " 2 0 0 1 2 1 0 1 0 1 1 2 0 0 3 2 3 3 2 0 0 2 0 0 1 0 3 3 0 0 0 0 3 0 2 0 2\n",
            " 3 2 2 3 3 1 0 3 3 3 3 3 2 0 0 2 1 2 2 3 2 1 1 3 0 0 0 2 0 2 2 0 2 0 3 1 3\n",
            " 2 0 2 1 0 0 1 2 1 2 3 1 1 2 1 0 0 1 3 0 2 2 1 3 2 1 3 3 0 1 3 0 2 1 3 1 0\n",
            " 3 2 3 2 3 1 1 3 0 2 0 2 0 3 2 0 0 3 2 0 2 2 1 2 1 1 1 3 1 1 0 1 0 3 1 0 1\n",
            " 2 3 3 2 3 3 3 2 3 0 0 3 0 0 3 2 0 3 2 0 2 3 0 0 2 3 2 0 1 0 0 3 0 0 3 3 0\n",
            " 2 0 0 1 0 2 1 3 0 2 0 3 1 1]\n"
          ]
        }
      ],
      "source": [
        "print(y_test)"
      ]
    },
    {
      "cell_type": "code",
      "source": [],
      "metadata": {
        "id": "mc4_U1bvYnW6"
      },
      "execution_count": 94,
      "outputs": []
    },
    {
      "cell_type": "markdown",
      "metadata": {
        "id": "KvN9Tl-wKPn1"
      },
      "source": [
        "#**Classification by: eXtreme Gradiet Boosting - XGBoost**"
      ]
    },
    {
      "cell_type": "code",
      "execution_count": 114,
      "metadata": {
        "colab": {
          "base_uri": "https://localhost:8080/"
        },
        "id": "v0jMEHov64og",
        "outputId": "f926e74e-246c-4ac3-9279-d4cf70cc5ded"
      },
      "outputs": [
        {
          "output_type": "execute_result",
          "data": {
            "text/plain": [
              "XGBClassifier(n_estimators=26, objective='multi:softprob')"
            ]
          },
          "metadata": {},
          "execution_count": 114
        }
      ],
      "source": [
        "from xgboost import XGBClassifier\n",
        "model = XGBClassifier(n_estimators=26)\n",
        "model.fit(X_train,y_train,eval_metric='merror')"
      ]
    },
    {
      "cell_type": "code",
      "execution_count": 115,
      "metadata": {
        "id": "lpHFwUBG-FBC"
      },
      "outputs": [],
      "source": [
        "preds = model.predict(X_test)"
      ]
    },
    {
      "cell_type": "code",
      "execution_count": 116,
      "metadata": {
        "colab": {
          "base_uri": "https://localhost:8080/"
        },
        "id": "-ByZGsoM_Ddo",
        "outputId": "30415936-e24f-4681-a3e9-00fadfec25ed"
      },
      "outputs": [
        {
          "output_type": "stream",
          "name": "stdout",
          "text": [
            "Training accuracy: 89.45454545454545\n",
            "Training:\n",
            "               precision    recall  f1-score   support\n",
            "\n",
            "           0       0.97      0.78      0.87       141\n",
            "           1       0.96      0.90      0.93       116\n",
            "           2       0.82      0.91      0.86       140\n",
            "           3       0.87      0.98      0.92       153\n",
            "\n",
            "    accuracy                           0.89       550\n",
            "   macro avg       0.91      0.89      0.89       550\n",
            "weighted avg       0.90      0.89      0.89       550\n",
            "\n",
            "Testing accuracy: 77.96610169491525\n",
            "Testing:\n",
            "               precision    recall  f1-score   support\n",
            "\n",
            "           0       0.89      0.62      0.73        68\n",
            "           1       0.83      0.77      0.80        44\n",
            "           2       0.74      0.85      0.79        65\n",
            "           3       0.72      0.90      0.80        59\n",
            "\n",
            "    accuracy                           0.78       236\n",
            "   macro avg       0.80      0.78      0.78       236\n",
            "weighted avg       0.80      0.78      0.78       236\n",
            "\n"
          ]
        }
      ],
      "source": [
        "from sklearn.metrics import confusion_matrix, accuracy_score,classification_report\n",
        "\n",
        "y_pred_train = model.predict(X_train)\n",
        "y_pred_test = model.predict(X_test)\n",
        "target_names = sorted(set(Y))\n",
        "\n",
        "\n",
        "print(f'Training accuracy: {accuracy_score(y_train,y_pred_train) * 100}')\n",
        "print(f'Training:\\n {classification_report(y_train, y_pred_train, labels=target_names)}')\n",
        "print(f'Testing accuracy: {accuracy_score(y_test,y_pred_test) * 100}')\n",
        "print(f'Testing:\\n {classification_report(y_test, y_pred_test, labels=target_names)}')"
      ]
    },
    {
      "cell_type": "code",
      "execution_count": 117,
      "metadata": {
        "colab": {
          "base_uri": "https://localhost:8080/",
          "height": 554
        },
        "id": "20TepwJTAp_0",
        "outputId": "8511a214-02ba-4306-877f-bae65aafb648"
      },
      "outputs": [
        {
          "output_type": "execute_result",
          "data": {
            "text/plain": [
              "<matplotlib.axes._subplots.AxesSubplot at 0x7ff9924d8a90>"
            ]
          },
          "metadata": {},
          "execution_count": 117
        },
        {
          "output_type": "display_data",
          "data": {
            "text/plain": [
              "<Figure size 1152x648 with 2 Axes>"
            ],
            "image/png": "[encoded data removed]"
          },
          "metadata": {
            "needs_background": "light"
          }
        }
      ],
      "source": [
        "#Confusion matrix\n",
        "import seaborn as sns\n",
        "conf_mat = confusion_matrix(y_test, y_pred_test)\n",
        "plt.figure(figsize = (16, 9))\n",
        "sns.heatmap(conf_mat/np.sum(conf_mat),cmap=\"BuPu\", fmt='.2%',annot=True, xticklabels = target_names, yticklabels = target_names )"
      ]
    },
    {
      "cell_type": "code",
      "execution_count": 118,
      "metadata": {
        "id": "e4Bsl8aMBmLz",
        "colab": {
          "base_uri": "https://localhost:8080/"
        },
        "outputId": "2d15725f-6527-4b44-e22f-42d1ca64ab0f"
      },
      "outputs": [
        {
          "output_type": "stream",
          "name": "stdout",
          "text": [
            "Training accuracy: 0.8127272727272727\n",
            "Training:\n",
            "               precision    recall  f1-score   support\n",
            "\n",
            "           0       0.83      0.72      0.77       141\n",
            "           1       0.88      0.84      0.86       116\n",
            "           2       0.75      0.76      0.75       140\n",
            "           3       0.81      0.93      0.86       153\n",
            "\n",
            "    accuracy                           0.81       550\n",
            "   macro avg       0.82      0.81      0.81       550\n",
            "weighted avg       0.81      0.81      0.81       550\n",
            "\n",
            "Testing accuracy: 0.6991525423728814\n",
            "Testing:\n",
            "               precision    recall  f1-score   support\n",
            "\n",
            "           0       0.70      0.62      0.66        68\n",
            "           1       0.74      0.57      0.64        44\n",
            "           2       0.65      0.75      0.70        65\n",
            "           3       0.73      0.83      0.78        59\n",
            "\n",
            "    accuracy                           0.70       236\n",
            "   macro avg       0.70      0.69      0.69       236\n",
            "weighted avg       0.70      0.70      0.70       236\n",
            "\n"
          ]
        }
      ],
      "source": [
        "from sklearn.model_selection import cross_val_predict\n",
        "y_train_pred = cross_val_predict(model, X_train, y_train, cv=9)\n",
        "y_test_pred = cross_val_predict(model, X_test, y_test, cv=9)\n",
        "\n",
        "print(f'Training accuracy: {accuracy_score(y_train,y_train_pred)}')\n",
        "print(f'Training:\\n {classification_report(y_train, y_train_pred, labels=target_names)}')\n",
        "\n",
        "print(f'Testing accuracy: {accuracy_score(y_test,y_test_pred)}')\n",
        "print(f'Testing:\\n {classification_report(y_test, y_test_pred, labels=target_names)}')\n"
      ]
    },
    {
      "cell_type": "code",
      "execution_count": 119,
      "metadata": {
        "id": "QThxygr9Bqa9"
      },
      "outputs": [],
      "source": [
        "from sklearn.metrics import confusion_matrix\n",
        "conf_mx = confusion_matrix(y_train, y_train_pred)"
      ]
    },
    {
      "cell_type": "code",
      "execution_count": 120,
      "metadata": {
        "id": "g121M_hfBuqk",
        "colab": {
          "base_uri": "https://localhost:8080/",
          "height": 292
        },
        "outputId": "cea8dd40-07ba-4367-e770-ebc52dd54a09"
      },
      "outputs": [
        {
          "output_type": "execute_result",
          "data": {
            "text/plain": [
              "<matplotlib.image.AxesImage at 0x7ff99243a490>"
            ]
          },
          "metadata": {},
          "execution_count": 120
        },
        {
          "output_type": "display_data",
          "data": {
            "text/plain": [
              "<Figure size 288x288 with 1 Axes>"
            ],
            "image/png": "[encoded data removed]"
          },
          "metadata": {
            "needs_background": "light"
          }
        }
      ],
      "source": [
        "plt.matshow(conf_mx, cmap=\"BuPu\")"
      ]
    },
    {
      "cell_type": "code",
      "execution_count": 120,
      "metadata": {
        "id": "BzWJnVFqSaWG"
      },
      "outputs": [],
      "source": []
    },
    {
      "cell_type": "markdown",
      "metadata": {
        "id": "O665NutpJ8JV"
      },
      "source": [
        "#**Classification by: Convolutional Neural Network**"
      ]
    },
    {
      "cell_type": "code",
      "execution_count": 121,
      "metadata": {
        "id": "ewDvfDAeKvhg"
      },
      "outputs": [],
      "source": [
        "from tensorflow import keras\n",
        "from keras.models import Sequential\n"
      ]
    },
    {
      "cell_type": "code",
      "execution_count": 122,
      "metadata": {
        "colab": {
          "base_uri": "https://localhost:8080/"
        },
        "id": "n1eWWNjCK23N",
        "outputId": "c095adff-3120-4a91-b220-9e56f2fbb328"
      },
      "outputs": [
        {
          "output_type": "stream",
          "name": "stdout",
          "text": [
            "Model: \"sequential_3\"\n",
            "_________________________________________________________________\n",
            " Layer (type)                Output Shape              Param #   \n",
            "=================================================================\n",
            " dense_15 (Dense)            (None, 256)               5120      \n",
            "                                                                 \n",
            " dropout_12 (Dropout)        (None, 256)               0         \n",
            "                                                                 \n",
            " dense_16 (Dense)            (None, 128)               32896     \n",
            "                                                                 \n",
            " dropout_13 (Dropout)        (None, 128)               0         \n",
            "                                                                 \n",
            " dense_17 (Dense)            (None, 64)                8256      \n",
            "                                                                 \n",
            " dropout_14 (Dropout)        (None, 64)                0         \n",
            "                                                                 \n",
            " dense_18 (Dense)            (None, 32)                2080      \n",
            "                                                                 \n",
            " dropout_15 (Dropout)        (None, 32)                0         \n",
            "                                                                 \n",
            " dense_19 (Dense)            (None, 10)                330       \n",
            "                                                                 \n",
            "=================================================================\n",
            "Total params: 48,682\n",
            "Trainable params: 48,682\n",
            "Non-trainable params: 0\n",
            "_________________________________________________________________\n",
            "None\n",
            "Epoch 1/25\n",
            "18/18 [==============================] - 1s 15ms/step - loss: 1.9951 - accuracy: 0.2636 - val_loss: 1.5970 - val_accuracy: 0.3517\n",
            "Epoch 2/25\n",
            "18/18 [==============================] - 0s 5ms/step - loss: 1.4945 - accuracy: 0.3400 - val_loss: 1.2368 - val_accuracy: 0.5000\n",
            "Epoch 3/25\n",
            "18/18 [==============================] - 0s 6ms/step - loss: 1.2845 - accuracy: 0.4491 - val_loss: 1.0734 - val_accuracy: 0.6398\n",
            "Epoch 4/25\n",
            "18/18 [==============================] - 0s 5ms/step - loss: 1.1261 - accuracy: 0.5436 - val_loss: 0.9144 - val_accuracy: 0.7203\n",
            "Epoch 5/25\n",
            "18/18 [==============================] - 0s 5ms/step - loss: 0.9816 - accuracy: 0.6000 - val_loss: 0.7778 - val_accuracy: 0.7415\n",
            "Epoch 6/25\n",
            "18/18 [==============================] - 0s 6ms/step - loss: 0.8494 - accuracy: 0.6873 - val_loss: 0.7106 - val_accuracy: 0.7500\n",
            "Epoch 7/25\n",
            "18/18 [==============================] - 0s 5ms/step - loss: 0.7029 - accuracy: 0.7727 - val_loss: 0.6567 - val_accuracy: 0.7712\n",
            "Epoch 8/25\n",
            "18/18 [==============================] - 0s 6ms/step - loss: 0.6820 - accuracy: 0.7527 - val_loss: 0.6038 - val_accuracy: 0.7881\n",
            "Epoch 9/25\n",
            "18/18 [==============================] - 0s 4ms/step - loss: 0.5865 - accuracy: 0.7927 - val_loss: 0.5647 - val_accuracy: 0.8051\n",
            "Epoch 10/25\n",
            "18/18 [==============================] - 0s 6ms/step - loss: 0.5283 - accuracy: 0.8291 - val_loss: 0.5283 - val_accuracy: 0.8263\n",
            "Epoch 11/25\n",
            "18/18 [==============================] - 0s 4ms/step - loss: 0.5021 - accuracy: 0.8327 - val_loss: 0.4996 - val_accuracy: 0.8347\n",
            "Epoch 12/25\n",
            "18/18 [==============================] - 0s 6ms/step - loss: 0.4707 - accuracy: 0.8382 - val_loss: 0.5332 - val_accuracy: 0.8220\n",
            "Epoch 13/25\n",
            "18/18 [==============================] - 0s 5ms/step - loss: 0.4212 - accuracy: 0.8618 - val_loss: 0.4622 - val_accuracy: 0.8347\n",
            "Epoch 14/25\n",
            "18/18 [==============================] - 0s 5ms/step - loss: 0.3624 - accuracy: 0.8764 - val_loss: 0.4670 - val_accuracy: 0.8390\n",
            "Epoch 15/25\n",
            "18/18 [==============================] - 0s 5ms/step - loss: 0.3361 - accuracy: 0.8964 - val_loss: 0.4174 - val_accuracy: 0.8517\n",
            "Epoch 16/25\n",
            "18/18 [==============================] - 0s 5ms/step - loss: 0.3315 - accuracy: 0.8909 - val_loss: 0.4305 - val_accuracy: 0.8475\n",
            "Epoch 17/25\n",
            "18/18 [==============================] - 0s 5ms/step - loss: 0.2946 - accuracy: 0.8909 - val_loss: 0.4289 - val_accuracy: 0.8559\n",
            "Epoch 18/25\n",
            "18/18 [==============================] - 0s 6ms/step - loss: 0.2649 - accuracy: 0.9109 - val_loss: 0.4330 - val_accuracy: 0.8602\n",
            "Epoch 19/25\n",
            "18/18 [==============================] - 0s 5ms/step - loss: 0.2401 - accuracy: 0.9255 - val_loss: 0.3853 - val_accuracy: 0.8856\n",
            "Epoch 20/25\n",
            "18/18 [==============================] - 0s 5ms/step - loss: 0.2239 - accuracy: 0.9182 - val_loss: 0.4374 - val_accuracy: 0.8814\n",
            "Epoch 21/25\n",
            "18/18 [==============================] - 0s 5ms/step - loss: 0.2268 - accuracy: 0.9291 - val_loss: 0.4473 - val_accuracy: 0.8729\n",
            "Epoch 22/25\n",
            "18/18 [==============================] - 0s 5ms/step - loss: 0.1985 - accuracy: 0.9291 - val_loss: 0.4302 - val_accuracy: 0.8814\n",
            "Epoch 23/25\n",
            "18/18 [==============================] - 0s 5ms/step - loss: 0.2175 - accuracy: 0.9345 - val_loss: 0.3921 - val_accuracy: 0.8771\n",
            "Epoch 24/25\n",
            "18/18 [==============================] - 0s 5ms/step - loss: 0.1636 - accuracy: 0.9527 - val_loss: 0.4292 - val_accuracy: 0.8771\n",
            "Epoch 25/25\n",
            "18/18 [==============================] - 0s 5ms/step - loss: 0.1520 - accuracy: 0.9600 - val_loss: 0.4391 - val_accuracy: 0.8814\n"
          ]
        }
      ],
      "source": [
        "model = keras.models.Sequential([\n",
        "    keras.layers.Dense(256, activation=\"relu\", input_shape=(X_train.shape[1],)),\n",
        "    keras.layers.Dropout(0.2),\n",
        "    \n",
        "    keras.layers.Dense(128,activation=\"relu\"),\n",
        "    keras.layers.Dropout(0.2),\n",
        "    \n",
        "    keras.layers.Dense(64,activation=\"relu\"),\n",
        "    keras.layers.Dropout(0.2),\n",
        "    \n",
        "    keras.layers.Dense(32,activation=\"relu\"),\n",
        "    keras.layers.Dropout(0.2),\n",
        "    \n",
        "    keras.layers.Dense(10, activation=\"softmax\"),\n",
        "    \n",
        "])\n",
        "print(model.summary())\n",
        "batch_size = 32\n",
        "model.compile(optimizer='adam',\n",
        "                  loss='sparse_categorical_crossentropy',\n",
        "                   metrics='accuracy'\n",
        "    )\n",
        "model_history = model.fit(X_train, y_train, validation_data=(X_test, y_test), epochs = 25, \n",
        "                     batch_size=batch_size)"
      ]
    },
    {
      "cell_type": "code",
      "execution_count": 123,
      "metadata": {
        "colab": {
          "base_uri": "https://localhost:8080/"
        },
        "id": "zDJd6DL7LFHr",
        "outputId": "abeba6c7-b432-4d9a-eaf1-13d4a70276d5"
      },
      "outputs": [
        {
          "output_type": "stream",
          "name": "stdout",
          "text": [
            "8/8 [==============================] - 0s 2ms/step - loss: 0.4391 - accuracy: 0.8814\n",
            "The test loss is : 0.43914899230003357\n",
            "\n",
            "The test Accuracy is : 88.13559412956238\n"
          ]
        }
      ],
      "source": [
        "test_loss, test_accuracy = model.evaluate(X_test, y_test, batch_size=32)\n",
        "print(\"The test loss is :\",test_loss)\n",
        "print(\"\\nThe test Accuracy is :\",test_accuracy*100)"
      ]
    },
    {
      "cell_type": "code",
      "execution_count": 123,
      "metadata": {
        "id": "J1mQ7_vCS008"
      },
      "outputs": [],
      "source": []
    },
    {
      "cell_type": "markdown",
      "metadata": {
        "id": "sg5Rnm_mKgFJ"
      },
      "source": [
        "#**Classification by: Random Forest Classifier**"
      ]
    },
    {
      "cell_type": "code",
      "execution_count": 124,
      "metadata": {
        "colab": {
          "base_uri": "https://localhost:8080/"
        },
        "id": "T9q8xMhTIk4d",
        "outputId": "4b0398c8-7e37-4bed-d3d3-a2534b78ce26"
      },
      "outputs": [
        {
          "output_type": "execute_result",
          "data": {
            "text/plain": [
              "RandomForestClassifier(max_leaf_nodes=16, n_estimators=16, n_jobs=-1,\n",
              "                       random_state=42)"
            ]
          },
          "metadata": {},
          "execution_count": 124
        }
      ],
      "source": [
        "from sklearn.ensemble import RandomForestClassifier\n",
        "\n",
        "forest = RandomForestClassifier(random_state=42, n_estimators=16, max_leaf_nodes=16, n_jobs=-1)\n",
        "forest.fit(X_train, y_train)\n"
      ]
    },
    {
      "cell_type": "code",
      "execution_count": 125,
      "metadata": {
        "colab": {
          "base_uri": "https://localhost:8080/"
        },
        "id": "FwDf7dgZIs3t",
        "outputId": "e4bd5ed5-386d-47b8-d7b3-226fc2825ecf"
      },
      "outputs": [
        {
          "output_type": "stream",
          "name": "stdout",
          "text": [
            "Training accuracy: 0.8618181818181818\n",
            "Training:\n",
            "               precision    recall  f1-score   support\n",
            "\n",
            "           0       0.97      0.78      0.87       141\n",
            "           1       0.96      0.90      0.93       116\n",
            "           2       0.82      0.91      0.86       140\n",
            "           3       0.87      0.98      0.92       153\n",
            "\n",
            "    accuracy                           0.89       550\n",
            "   macro avg       0.91      0.89      0.89       550\n",
            "weighted avg       0.90      0.89      0.89       550\n",
            "\n",
            "Testing accuracy: 0.7330508474576272\n",
            "Testing:\n",
            "               precision    recall  f1-score   support\n",
            "\n",
            "           0       0.89      0.62      0.73        68\n",
            "           1       0.83      0.77      0.80        44\n",
            "           2       0.74      0.85      0.79        65\n",
            "           3       0.72      0.90      0.80        59\n",
            "\n",
            "    accuracy                           0.78       236\n",
            "   macro avg       0.80      0.78      0.78       236\n",
            "weighted avg       0.80      0.78      0.78       236\n",
            "\n"
          ]
        }
      ],
      "source": [
        "y_pred_train2 = forest.predict(X_train)\n",
        "y_pred_test2 = forest.predict(X_test)\n",
        "target_names2 = sorted(set(Y))\n",
        "\n",
        "\n",
        "print(f'Training accuracy: {accuracy_score(y_train,y_pred_train2)}')\n",
        "print(f'Training:\\n {classification_report(y_train, y_pred_train, labels=target_names)}')\n",
        "print(f'Testing accuracy: {accuracy_score(y_test,y_pred_test2)}')\n",
        "print(f'Testing:\\n {classification_report(y_test, y_pred_test, labels=target_names)}')"
      ]
    },
    {
      "cell_type": "code",
      "execution_count": 126,
      "metadata": {
        "colab": {
          "base_uri": "https://localhost:8080/",
          "height": 554
        },
        "id": "af67kyG7JqcU",
        "outputId": "a750566d-e032-4b65-f40a-ff8c9f4c5f15"
      },
      "outputs": [
        {
          "output_type": "execute_result",
          "data": {
            "text/plain": [
              "<matplotlib.axes._subplots.AxesSubplot at 0x7ff992227910>"
            ]
          },
          "metadata": {},
          "execution_count": 126
        },
        {
          "output_type": "display_data",
          "data": {
            "text/plain": [
              "<Figure size 1152x648 with 2 Axes>"
            ],
            "image/png": "[encoded data removed]"
          },
          "metadata": {
            "needs_background": "light"
          }
        }
      ],
      "source": [
        "#Confusion matrix\n",
        "conf_mat2 = confusion_matrix(y_test, y_pred_test2)\n",
        "plt.figure(figsize = (16, 9))\n",
        "sns.heatmap(conf_mat2/np.sum(conf_mat2),cmap=\"BuPu\", fmt='.2%',annot=True, xticklabels = target_names, yticklabels = target_names )"
      ]
    },
    {
      "cell_type": "code",
      "execution_count": 126,
      "metadata": {
        "id": "8DXG0nZ0WSBt"
      },
      "outputs": [],
      "source": []
    },
    {
      "cell_type": "markdown",
      "metadata": {
        "id": "LE8glPp0SnzW"
      },
      "source": [
        "#**ROC CURVE**"
      ]
    },
    {
      "cell_type": "code",
      "execution_count": 127,
      "metadata": {
        "id": "_KQK6GUISrx-"
      },
      "outputs": [],
      "source": [
        "from sklearn.metrics import auc, roc_curve\n",
        "from sklearn.preprocessing import label_binarize\n",
        "\n",
        "pred_prob = forest.predict_proba(X_test)\n",
        "y_bin = label_binarize(y_test,classes=np.unique(y_test))"
      ]
    },
    {
      "cell_type": "code",
      "execution_count": 130,
      "metadata": {
        "colab": {
          "base_uri": "https://localhost:8080/",
          "height": 295
        },
        "id": "HX9ThpHXS_rD",
        "outputId": "ab3a6680-d07e-4215-ce9a-7000c6fdcbdd"
      },
      "outputs": [
        {
          "output_type": "display_data",
          "data": {
            "text/plain": [
              "<Figure size 432x288 with 1 Axes>"
            ],
            "image/png": "[encoded data removed]"
          },
          "metadata": {
            "needs_background": "light"
          }
        }
      ],
      "source": [
        "fpr = {}\n",
        "tpr = {}\n",
        "thresh ={}\n",
        "roc_auc = dict()\n",
        "\n",
        "n_class = 4\n",
        "classes = [i for i in range(4)]\n",
        "\n",
        "for i in range(n_class):    \n",
        "    fpr[i], tpr[i], thresh[i] = roc_curve(y_bin[:,i], pred_prob[:,i])\n",
        "    roc_auc[i] = auc(fpr[i], tpr[i])\n",
        "    plt.plot(fpr[i], tpr[i], linestyle='-', label='%s vs Rest (AUC=%0.2f)'%(classes[i],roc_auc[i]))\n",
        "\n",
        "plt.plot([0,1],[0,1],'b-')\n",
        "plt.xlim([0,1])\n",
        "plt.ylim([0,1.05])\n",
        "plt.title('Multiclass ROC curve')\n",
        "plt.xlabel('False Positive')\n",
        "plt.ylabel('True Positive')\n",
        "plt.legend(loc='lower right')\n",
        "plt.show()\n"
      ]
    }
  ],
  "metadata": {
    "colab": {
      "provenance": [],
      "authorship_tag": "ABX9TyOjA5HXxBFSILKrwWeNzE5w",
      "include_colab_link": true
    },
    "kernelspec": {
      "display_name": "Python 3",
      "name": "python3"
    },
    "language_info": {
      "name": "python"
    }
  },
  "nbformat": 4,
  "nbformat_minor": 0
}