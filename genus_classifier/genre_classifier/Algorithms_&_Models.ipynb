{
  "cells": [
    {
      "cell_type": "markdown",
      "metadata": {
        "id": "YPCcZawnRrd9"
      },
      "source": [
        "#**Pre**\n"
      ]
    },
    {
      "cell_type": "code",
      "execution_count": 2,
      "metadata": {
        "id": "WeCYYKafRv4T"
      },
      "outputs": [],
      "source": [
        "import pandas as pd\n",
        "import librosa\n",
        "import numpy as np\n",
        "import matplotlib.pyplot as plt\n",
        "\n",
        "\n",
        "data = pd.read_csv('final_dataset_noise (7).csv')\n",
        "# data.head()"
      ]
    },
    {
      "cell_type": "code",
      "execution_count": 3,
      "metadata": {
        "colab": {
          "base_uri": "https://localhost:8080/"
        },
        "id": "Chx0rUKXRxnf",
        "outputId": "feeefcfb-bcb5-42b6-824e-b08c3c82d7d0"
      },
      "outputs": [
        {
          "output_type": "execute_result",
          "data": {
            "text/plain": [
              "(786, 20)"
            ]
          },
          "metadata": {},
          "execution_count": 3
        }
      ],
      "source": [
        "data = data.drop(labels='filename',axis=1)\n",
        "data.shape"
      ]
    },
    {
      "cell_type": "code",
      "execution_count": 4,
      "metadata": {
        "colab": {
          "base_uri": "https://localhost:8080/"
        },
        "id": "AEHp4L1mR0-i",
        "outputId": "3d3ece16-aedb-4461-e745-eecf016eff03"
      },
      "outputs": [
        {
          "output_type": "stream",
          "name": "stdout",
          "text": [
            "(786, 19)\n",
            "(786,)\n"
          ]
        }
      ],
      "source": [
        "from sklearn.model_selection import train_test_split\n",
        "from sklearn.preprocessing import LabelEncoder, StandardScaler, MinMaxScaler\n",
        "\n",
        "classification_group = data.iloc[:, -1]\n",
        "convertor = LabelEncoder()\n",
        "Y = convertor.fit_transform(classification_group)\n",
        "\n",
        "\n",
        "fit = StandardScaler()\n",
        "X = fit.fit_transform(np.array(data.iloc[:, :-1], dtype = float))\n",
        "\n",
        "print(X.shape)\n",
        "print(Y.shape)\n"
      ]
    },
    {
      "cell_type": "code",
      "execution_count": 5,
      "metadata": {
        "id": "gzyyEkKOSF_E"
      },
      "outputs": [],
      "source": [
        "X_train, X_test, y_train, y_test = train_test_split(X,Y, test_size=0.2)"
      ]
    },
    {
      "cell_type": "code",
      "execution_count": 6,
      "metadata": {
        "colab": {
          "base_uri": "https://localhost:8080/"
        },
        "id": "qSjLrX1DSGsd",
        "outputId": "77090667-472a-4d9e-f13f-36c01cb9d6a8"
      },
      "outputs": [
        {
          "output_type": "stream",
          "name": "stdout",
          "text": [
            "[3 3 3 0 0 0 2 2 0 0 3 2 1 3 1 3 1 0 0 2 2 0 1 3 3 0 0 0 0 2 1 1 3 2 2 1 3\n",
            " 0 0 0 1 3 1 0 3 2 0 0 2 1 1 1 2 1 3 1 1 3 2 2 3 2 3 3 3 2 2 0 0 3 1 3 0 3\n",
            " 1 0 2 3 2 0 1 2 2 3 0 3 2 2 0 1 3 2 0 3 3 0 3 1 0 3 0 1 1 3 2 3 0 0 3 1 3\n",
            " 3 1 1 3 1 0 2 3 0 1 1 1 3 1 1 2 3 2 1 2 2 2 3 3 3 0 3 0 0 1 3 0 1 0 1 1 0\n",
            " 3 3 1 0 3 0 1 3 3 0]\n"
          ]
        }
      ],
      "source": [
        "print(y_test)"
      ]
    },
    {
      "cell_type": "code",
      "execution_count": 6,
      "metadata": {
        "id": "mc4_U1bvYnW6"
      },
      "outputs": [],
      "source": []
    },
    {
      "cell_type": "markdown",
      "metadata": {
        "id": "KvN9Tl-wKPn1"
      },
      "source": [
        "#**Classification by: eXtreme Gradiet Boosting - XGBoost**"
      ]
    },
    {
      "cell_type": "code",
      "execution_count": 7,
      "metadata": {
        "colab": {
          "base_uri": "https://localhost:8080/"
        },
        "id": "v0jMEHov64og",
        "outputId": "9dd2de94-c6f7-400f-c207-810076c40d7e"
      },
      "outputs": [
        {
          "output_type": "execute_result",
          "data": {
            "text/plain": [
              "XGBClassifier(n_estimators=24, objective='multi:softprob')"
            ]
          },
          "metadata": {},
          "execution_count": 7
        }
      ],
      "source": [
        "from xgboost import XGBClassifier\n",
        "model = XGBClassifier(n_estimators=24)\n",
        "model.fit(X_train,y_train,eval_metric='merror')"
      ]
    },
    {
      "cell_type": "code",
      "execution_count": 8,
      "metadata": {
        "id": "lpHFwUBG-FBC"
      },
      "outputs": [],
      "source": [
        "preds = model.predict(X_test)"
      ]
    },
    {
      "cell_type": "code",
      "execution_count": 9,
      "metadata": {
        "colab": {
          "base_uri": "https://localhost:8080/"
        },
        "id": "-ByZGsoM_Ddo",
        "outputId": "d7dc1671-0247-45e2-8fac-3917066c69fd"
      },
      "outputs": [
        {
          "output_type": "stream",
          "name": "stdout",
          "text": [
            "Training accuracy: 87.42038216560509\n",
            "Testing accuracy: 79.74683544303798\n",
            "Training:\n",
            "               precision    recall  f1-score   support\n",
            "\n",
            "           0       0.96      0.76      0.85       167\n",
            "           1       0.97      0.85      0.91       122\n",
            "           2       0.80      0.92      0.85       175\n",
            "           3       0.84      0.96      0.89       164\n",
            "\n",
            "    accuracy                           0.87       628\n",
            "   macro avg       0.89      0.87      0.88       628\n",
            "weighted avg       0.89      0.87      0.87       628\n",
            "\n",
            "Testing:\n",
            "               precision    recall  f1-score   support\n",
            "\n",
            "           0       0.83      0.69      0.75        42\n",
            "           1       0.94      0.84      0.89        38\n",
            "           2       0.60      0.83      0.69        30\n",
            "           3       0.85      0.83      0.84        48\n",
            "\n",
            "    accuracy                           0.80       158\n",
            "   macro avg       0.80      0.80      0.79       158\n",
            "weighted avg       0.82      0.80      0.80       158\n",
            "\n"
          ]
        }
      ],
      "source": [
        "from sklearn.metrics import confusion_matrix, accuracy_score,classification_report\n",
        "\n",
        "y_pred_train = model.predict(X_train)\n",
        "y_pred_test = model.predict(X_test)\n",
        "target_names = sorted(set(Y))\n",
        "\n",
        "\n",
        "print(f'Training accuracy: {accuracy_score(y_train,y_pred_train) * 100}')\n",
        "print(f'Testing accuracy: {accuracy_score(y_test,y_pred_test) * 100}')\n",
        "\n",
        "print(f'Training:\\n {classification_report(y_train, y_pred_train, labels=target_names)}')\n",
        "print(f'Testing:\\n {classification_report(y_test, y_pred_test, labels=target_names)}')"
      ]
    },
    {
      "cell_type": "code",
      "execution_count": 10,
      "metadata": {
        "colab": {
          "base_uri": "https://localhost:8080/",
          "height": 554
        },
        "id": "20TepwJTAp_0",
        "outputId": "b2f8a39f-7460-4b8e-a41a-1e1d0072d300"
      },
      "outputs": [
        {
          "output_type": "execute_result",
          "data": {
            "text/plain": [
              "<matplotlib.axes._subplots.AxesSubplot at 0x7f9d4e414100>"
            ]
          },
          "metadata": {},
          "execution_count": 10
        },
        {
          "output_type": "display_data",
          "data": {
            "text/plain": [
              "<Figure size 1152x648 with 2 Axes>"
            ],
            "image/png": "[encoded data removed]"
          },
          "metadata": {
            "needs_background": "light"
          }
        }
      ],
      "source": [
        "#Confusion matrix\n",
        "import seaborn as sns\n",
        "conf_mat = confusion_matrix(y_test, y_pred_test)\n",
        "plt.figure(figsize = (16, 9))\n",
        "sns.heatmap(conf_mat/np.sum(conf_mat),cmap=\"BuPu\", fmt='.2%',annot=True, xticklabels = target_names, yticklabels = target_names )"
      ]
    },
    {
      "cell_type": "code",
      "execution_count": 10,
      "metadata": {
        "id": "QThxygr9Bqa9"
      },
      "outputs": [],
      "source": []
    },
    {
      "cell_type": "markdown",
      "metadata": {
        "id": "O665NutpJ8JV"
      },
      "source": [
        "#**Classification by: Convolutional Neural Network**"
      ]
    },
    {
      "cell_type": "code",
      "execution_count": 11,
      "metadata": {
        "id": "ewDvfDAeKvhg"
      },
      "outputs": [],
      "source": [
        "from tensorflow import keras\n",
        "from keras.models import Sequential"
      ]
    },
    {
      "cell_type": "code",
      "execution_count": 12,
      "metadata": {
        "colab": {
          "base_uri": "https://localhost:8080/"
        },
        "id": "n1eWWNjCK23N",
        "outputId": "c9fac328-c661-49d1-f62a-a376e73abe96"
      },
      "outputs": [
        {
          "output_type": "stream",
          "name": "stdout",
          "text": [
            "Model: \"sequential\"\n",
            "_________________________________________________________________\n",
            " Layer (type)                Output Shape              Param #   \n",
            "=================================================================\n",
            " dense (Dense)               (None, 256)               5120      \n",
            "                                                                 \n",
            " dropout (Dropout)           (None, 256)               0         \n",
            "                                                                 \n",
            " dense_1 (Dense)             (None, 128)               32896     \n",
            "                                                                 \n",
            " dropout_1 (Dropout)         (None, 128)               0         \n",
            "                                                                 \n",
            " dense_2 (Dense)             (None, 64)                8256      \n",
            "                                                                 \n",
            " dropout_2 (Dropout)         (None, 64)                0         \n",
            "                                                                 \n",
            " dense_3 (Dense)             (None, 32)                2080      \n",
            "                                                                 \n",
            " dropout_3 (Dropout)         (None, 32)                0         \n",
            "                                                                 \n",
            " dense_4 (Dense)             (None, 10)                330       \n",
            "                                                                 \n",
            "=================================================================\n",
            "Total params: 48,682\n",
            "Trainable params: 48,682\n",
            "Non-trainable params: 0\n",
            "_________________________________________________________________\n",
            "None\n",
            "Epoch 1/25\n",
            "20/20 [==============================] - 3s 24ms/step - loss: 2.0339 - accuracy: 0.2436 - val_loss: 1.7362 - val_accuracy: 0.1899\n",
            "Epoch 2/25\n",
            "20/20 [==============================] - 0s 8ms/step - loss: 1.5095 - accuracy: 0.3615 - val_loss: 1.2588 - val_accuracy: 0.5759\n",
            "Epoch 3/25\n",
            "20/20 [==============================] - 0s 7ms/step - loss: 1.3055 - accuracy: 0.4427 - val_loss: 1.0728 - val_accuracy: 0.6139\n",
            "Epoch 4/25\n",
            "20/20 [==============================] - 0s 6ms/step - loss: 1.0836 - accuracy: 0.5398 - val_loss: 0.9398 - val_accuracy: 0.6899\n",
            "Epoch 5/25\n",
            "20/20 [==============================] - 0s 5ms/step - loss: 0.9420 - accuracy: 0.6354 - val_loss: 0.7808 - val_accuracy: 0.7342\n",
            "Epoch 6/25\n",
            "20/20 [==============================] - 0s 6ms/step - loss: 0.7849 - accuracy: 0.7006 - val_loss: 0.6875 - val_accuracy: 0.7532\n",
            "Epoch 7/25\n",
            "20/20 [==============================] - 0s 5ms/step - loss: 0.6749 - accuracy: 0.7516 - val_loss: 0.6275 - val_accuracy: 0.7911\n",
            "Epoch 8/25\n",
            "20/20 [==============================] - 0s 6ms/step - loss: 0.6064 - accuracy: 0.7994 - val_loss: 0.5950 - val_accuracy: 0.8101\n",
            "Epoch 9/25\n",
            "20/20 [==============================] - 0s 6ms/step - loss: 0.5503 - accuracy: 0.8121 - val_loss: 0.5599 - val_accuracy: 0.8291\n",
            "Epoch 10/25\n",
            "20/20 [==============================] - 0s 6ms/step - loss: 0.5199 - accuracy: 0.8248 - val_loss: 0.5479 - val_accuracy: 0.8291\n",
            "Epoch 11/25\n",
            "20/20 [==============================] - 0s 5ms/step - loss: 0.4993 - accuracy: 0.8424 - val_loss: 0.5517 - val_accuracy: 0.8228\n",
            "Epoch 12/25\n",
            "20/20 [==============================] - 0s 5ms/step - loss: 0.4368 - accuracy: 0.8455 - val_loss: 0.4797 - val_accuracy: 0.8354\n",
            "Epoch 13/25\n",
            "20/20 [==============================] - 0s 5ms/step - loss: 0.3303 - accuracy: 0.8854 - val_loss: 0.4736 - val_accuracy: 0.8608\n",
            "Epoch 14/25\n",
            "20/20 [==============================] - 0s 5ms/step - loss: 0.3294 - accuracy: 0.8885 - val_loss: 0.4875 - val_accuracy: 0.8671\n",
            "Epoch 15/25\n",
            "20/20 [==============================] - 0s 6ms/step - loss: 0.2928 - accuracy: 0.9045 - val_loss: 0.4826 - val_accuracy: 0.8608\n",
            "Epoch 16/25\n",
            "20/20 [==============================] - 0s 5ms/step - loss: 0.3198 - accuracy: 0.8997 - val_loss: 0.4584 - val_accuracy: 0.8734\n",
            "Epoch 17/25\n",
            "20/20 [==============================] - 0s 5ms/step - loss: 0.2924 - accuracy: 0.9092 - val_loss: 0.4417 - val_accuracy: 0.8671\n",
            "Epoch 18/25\n",
            "20/20 [==============================] - 0s 10ms/step - loss: 0.2578 - accuracy: 0.9076 - val_loss: 0.4598 - val_accuracy: 0.8734\n",
            "Epoch 19/25\n",
            "20/20 [==============================] - 0s 9ms/step - loss: 0.1715 - accuracy: 0.9538 - val_loss: 0.4855 - val_accuracy: 0.8608\n",
            "Epoch 20/25\n",
            "20/20 [==============================] - 0s 8ms/step - loss: 0.2308 - accuracy: 0.9172 - val_loss: 0.5275 - val_accuracy: 0.8671\n",
            "Epoch 21/25\n",
            "20/20 [==============================] - 0s 9ms/step - loss: 0.1879 - accuracy: 0.9443 - val_loss: 0.4642 - val_accuracy: 0.8861\n",
            "Epoch 22/25\n",
            "20/20 [==============================] - 0s 12ms/step - loss: 0.1957 - accuracy: 0.9443 - val_loss: 0.4539 - val_accuracy: 0.8861\n",
            "Epoch 23/25\n",
            "20/20 [==============================] - 0s 8ms/step - loss: 0.1617 - accuracy: 0.9506 - val_loss: 0.4985 - val_accuracy: 0.8734\n",
            "Epoch 24/25\n",
            "20/20 [==============================] - 0s 8ms/step - loss: 0.1188 - accuracy: 0.9682 - val_loss: 0.4596 - val_accuracy: 0.8797\n",
            "Epoch 25/25\n",
            "20/20 [==============================] - 0s 7ms/step - loss: 0.1115 - accuracy: 0.9713 - val_loss: 0.4739 - val_accuracy: 0.8924\n"
          ]
        }
      ],
      "source": [
        "model = keras.models.Sequential([\n",
        "    keras.layers.Dense(256, activation=\"relu\", input_shape=(X_train.shape[1],)),\n",
        "    keras.layers.Dropout(0.2),\n",
        "    \n",
        "    keras.layers.Dense(128,activation=\"relu\"),\n",
        "    keras.layers.Dropout(0.2),\n",
        "    \n",
        "    keras.layers.Dense(64,activation=\"relu\"),\n",
        "    keras.layers.Dropout(0.2),\n",
        "    \n",
        "    keras.layers.Dense(32,activation=\"relu\"),\n",
        "    keras.layers.Dropout(0.2),\n",
        "    \n",
        "    keras.layers.Dense(10, activation=\"softmax\"),\n",
        "    \n",
        "])\n",
        "print(model.summary())\n",
        "batch_size = 32\n",
        "model.compile(optimizer='adam',\n",
        "                  loss='sparse_categorical_crossentropy',\n",
        "                   metrics='accuracy'\n",
        "    )\n",
        "model_history = model.fit(X_train, y_train, validation_data=(X_test, y_test), epochs = 25, \n",
        "                     batch_size=batch_size)"
      ]
    },
    {
      "cell_type": "code",
      "execution_count": 13,
      "metadata": {
        "colab": {
          "base_uri": "https://localhost:8080/"
        },
        "id": "zDJd6DL7LFHr",
        "outputId": "34442ef4-8c5e-440d-b71d-2426b342d256"
      },
      "outputs": [
        {
          "output_type": "stream",
          "name": "stdout",
          "text": [
            "5/5 [==============================] - 0s 3ms/step - loss: 0.4739 - accuracy: 0.8924\n",
            "The test loss is : 0.47387269139289856\n",
            "\n",
            "The test Accuracy is : 89.2405092716217\n"
          ]
        }
      ],
      "source": [
        "test_loss, test_accuracy = model.evaluate(X_test, y_test, batch_size=32)\n",
        "print(\"The test loss is :\",test_loss)\n",
        "print(\"\\nThe test Accuracy is :\",test_accuracy*100)"
      ]
    },
    {
      "cell_type": "code",
      "execution_count": 14,
      "metadata": {
        "colab": {
          "base_uri": "https://localhost:8080/"
        },
        "id": "D4Dkr-xgoRaD",
        "outputId": "e5bd8ff7-eb3d-47e4-e5d1-1789a2b8d1ec"
      },
      "outputs": [
        {
          "output_type": "stream",
          "name": "stdout",
          "text": [
            "Keras weights file (<HDF5 file \"variables.h5\" (mode r+)>) saving:\n",
            "...layers\n",
            "......dense\n",
            ".........vars\n",
            "............0\n",
            "............1\n",
            "......dense_1\n",
            ".........vars\n",
            "............0\n",
            "............1\n",
            "......dense_2\n",
            ".........vars\n",
            "............0\n",
            "............1\n",
            "......dense_3\n",
            ".........vars\n",
            "............0\n",
            "............1\n",
            "......dense_4\n",
            ".........vars\n",
            "............0\n",
            "............1\n",
            "......dropout\n",
            ".........vars\n",
            "......dropout_1\n",
            ".........vars\n",
            "......dropout_2\n",
            ".........vars\n",
            "......dropout_3\n",
            ".........vars\n",
            "...metrics\n",
            "......mean\n",
            ".........vars\n",
            "............0\n",
            "............1\n",
            "......mean_metric_wrapper\n",
            ".........vars\n",
            "............0\n",
            "............1\n",
            "...optimizer\n",
            "......vars\n",
            ".........0\n",
            ".........1\n",
            ".........10\n",
            ".........11\n",
            ".........12\n",
            ".........13\n",
            ".........14\n",
            ".........15\n",
            ".........16\n",
            ".........17\n",
            ".........18\n",
            ".........19\n",
            ".........2\n",
            ".........20\n",
            ".........3\n",
            ".........4\n",
            ".........5\n",
            ".........6\n",
            ".........7\n",
            ".........8\n",
            ".........9\n",
            "...vars\n",
            "Keras model archive saving:\n",
            "File Name                                             Modified             Size\n",
            "variables.h5                                   2023-02-15 20:47:26       624552\n",
            "metadata.json                                  2023-02-15 20:47:25           64\n",
            "config.json                                    2023-02-15 20:47:25         3271\n",
            "Keras model archive loading:\n",
            "File Name                                             Modified             Size\n",
            "variables.h5                                   2023-02-15 20:47:26       624552\n",
            "metadata.json                                  2023-02-15 20:47:24           64\n",
            "config.json                                    2023-02-15 20:47:24         3271\n",
            "Keras weights file (<HDF5 file \"variables.h5\" (mode r)>) loading:\n",
            "...layers\n",
            "......dense\n",
            ".........vars\n",
            "............0\n",
            "............1\n",
            "......dense_1\n",
            ".........vars\n",
            "............0\n",
            "............1\n",
            "......dense_2\n",
            ".........vars\n",
            "............0\n",
            "............1\n",
            "......dense_3\n",
            ".........vars\n",
            "............0\n",
            "............1\n",
            "......dense_4\n",
            ".........vars\n",
            "............0\n",
            "............1\n",
            "......dropout\n",
            ".........vars\n",
            "......dropout_1\n",
            ".........vars\n",
            "......dropout_2\n",
            ".........vars\n",
            "......dropout_3\n",
            ".........vars\n",
            "...metrics\n",
            "......mean\n",
            ".........vars\n",
            "............0\n",
            "............1\n",
            "......mean_metric_wrapper\n",
            ".........vars\n",
            "............0\n",
            "............1\n",
            "...optimizer\n",
            "......vars\n",
            ".........0\n",
            ".........1\n",
            ".........10\n",
            ".........11\n",
            ".........12\n",
            ".........13\n",
            ".........14\n",
            ".........15\n",
            ".........16\n",
            ".........17\n",
            ".........18\n",
            ".........19\n",
            ".........2\n",
            ".........20\n",
            ".........3\n",
            ".........4\n",
            ".........5\n",
            ".........6\n",
            ".........7\n",
            ".........8\n",
            ".........9\n",
            "...vars\n",
            "5/5 [==============================] - 0s 2ms/step\n"
          ]
        },
        {
          "output_type": "execute_result",
          "data": {
            "text/plain": [
              "array([[8.8544434e-01, 2.3902378e-05, 8.2162477e-04, ..., 2.3952680e-08,\n",
              "        2.2439991e-07, 1.6483802e-06],\n",
              "       [1.1389148e-05, 5.7622731e-08, 7.5263495e-05, ..., 2.4967042e-11,\n",
              "        3.0512717e-10, 6.6701373e-09],\n",
              "       [1.9265513e-04, 7.1804214e-07, 1.2600825e-03, ..., 9.7497710e-10,\n",
              "        1.1036338e-08, 1.4700053e-07],\n",
              "       ...,\n",
              "       [1.5351870e-03, 4.8941060e-05, 4.7965082e-03, ..., 4.3053592e-07,\n",
              "        1.7406816e-06, 1.3362947e-05],\n",
              "       [2.8976274e-04, 1.0686331e-06, 2.5940954e-03, ..., 1.5009047e-09,\n",
              "        1.7517266e-08, 1.8879932e-07],\n",
              "       [1.0000000e+00, 3.5648984e-11, 2.4147837e-10, ..., 5.8405410e-16,\n",
              "        1.4722710e-12, 6.0473158e-14]], dtype=float32)"
            ]
          },
          "metadata": {},
          "execution_count": 14
        }
      ],
      "source": [
        "import pickle\n",
        "# pickled_model = pickle.load(open('model.pkl', 'rb'))\n",
        "# pickle.dump(model, pickled_model)\n",
        "# pickled_model.predict(X_test)\n",
        "\n",
        "\n",
        "with open('model_pkl', 'wb') as files:\n",
        "    pickle.dump(model, files)\n",
        "with open('model_pkl' , 'rb') as f:\n",
        "    lr = pickle.load(f)\n",
        "lr.predict(X_test)"
      ]
    },
    {
      "cell_type": "markdown",
      "metadata": {
        "id": "sg5Rnm_mKgFJ"
      },
      "source": [
        "#**Classification by: Random Forest Classifier**"
      ]
    },
    {
      "cell_type": "code",
      "execution_count": 15,
      "metadata": {
        "colab": {
          "base_uri": "https://localhost:8080/"
        },
        "id": "T9q8xMhTIk4d",
        "outputId": "bb09557f-6cdd-417c-f39c-389e0e2266d7"
      },
      "outputs": [
        {
          "output_type": "execute_result",
          "data": {
            "text/plain": [
              "RandomForestClassifier(max_leaf_nodes=16, n_estimators=16, n_jobs=-1,\n",
              "                       random_state=42)"
            ]
          },
          "metadata": {},
          "execution_count": 15
        }
      ],
      "source": [
        "from sklearn.ensemble import RandomForestClassifier\n",
        "\n",
        "forest = RandomForestClassifier(random_state=42, n_estimators=16, max_leaf_nodes=16, n_jobs=-1)\n",
        "forest.fit(X_train, y_train)\n"
      ]
    },
    {
      "cell_type": "code",
      "execution_count": 16,
      "metadata": {
        "colab": {
          "base_uri": "https://localhost:8080/"
        },
        "id": "FwDf7dgZIs3t",
        "outputId": "f95bae77-178f-4ce6-d65d-4e7c326b705d"
      },
      "outputs": [
        {
          "output_type": "stream",
          "name": "stdout",
          "text": [
            "Training accuracy: 0.8837579617834395\n",
            "Testing accuracy: 0.7658227848101266\n",
            "Training:\n",
            "               precision    recall  f1-score   support\n",
            "\n",
            "           0       0.96      0.76      0.85       167\n",
            "           1       0.97      0.85      0.91       122\n",
            "           2       0.80      0.92      0.85       175\n",
            "           3       0.84      0.96      0.89       164\n",
            "\n",
            "    accuracy                           0.87       628\n",
            "   macro avg       0.89      0.87      0.88       628\n",
            "weighted avg       0.89      0.87      0.87       628\n",
            "\n",
            "Testing:\n",
            "               precision    recall  f1-score   support\n",
            "\n",
            "           0       0.83      0.69      0.75        42\n",
            "           1       0.94      0.84      0.89        38\n",
            "           2       0.60      0.83      0.69        30\n",
            "           3       0.85      0.83      0.84        48\n",
            "\n",
            "    accuracy                           0.80       158\n",
            "   macro avg       0.80      0.80      0.79       158\n",
            "weighted avg       0.82      0.80      0.80       158\n",
            "\n"
          ]
        }
      ],
      "source": [
        "y_pred_train2 = forest.predict(X_train)\n",
        "y_pred_test2 = forest.predict(X_test)\n",
        "target_names2 = sorted(set(Y))\n",
        "\n",
        "\n",
        "print(f'Training accuracy: {accuracy_score(y_train,y_pred_train2)}')\n",
        "print(f'Testing accuracy: {accuracy_score(y_test,y_pred_test2)}')\n",
        "\n",
        "print(f'Training:\\n {classification_report(y_train, y_pred_train, labels=target_names)}')\n",
        "print(f'Testing:\\n {classification_report(y_test, y_pred_test, labels=target_names)}')"
      ]
    },
    {
      "cell_type": "code",
      "execution_count": 17,
      "metadata": {
        "colab": {
          "base_uri": "https://localhost:8080/",
          "height": 554
        },
        "id": "af67kyG7JqcU",
        "outputId": "ed1155e1-000d-4958-bfcb-6f0cc3e08480"
      },
      "outputs": [
        {
          "output_type": "execute_result",
          "data": {
            "text/plain": [
              "<matplotlib.axes._subplots.AxesSubplot at 0x7f9ce88914f0>"
            ]
          },
          "metadata": {},
          "execution_count": 17
        },
        {
          "output_type": "display_data",
          "data": {
            "text/plain": [
              "<Figure size 1152x648 with 2 Axes>"
            ],
            "image/png": "[encoded data removed]"
          },
          "metadata": {
            "needs_background": "light"
          }
        }
      ],
      "source": [
        "#Confusion matrix\n",
        "conf_mat2 = confusion_matrix(y_test, y_pred_test2)\n",
        "plt.figure(figsize = (16, 9))\n",
        "sns.heatmap(conf_mat2/np.sum(conf_mat2),cmap=\"BuPu\", fmt='.2%',annot=True, xticklabels = target_names, yticklabels = target_names )"
      ]
    },
    {
      "cell_type": "code",
      "execution_count": 17,
      "metadata": {
        "id": "8DXG0nZ0WSBt"
      },
      "outputs": [],
      "source": []
    },
    {
      "cell_type": "markdown",
      "metadata": {
        "id": "LE8glPp0SnzW"
      },
      "source": [
        "#**ROC CURVE**"
      ]
    },
    {
      "cell_type": "code",
      "execution_count": 18,
      "metadata": {
        "id": "_KQK6GUISrx-"
      },
      "outputs": [],
      "source": [
        "from sklearn.metrics import auc, roc_curve\n",
        "from sklearn.preprocessing import label_binarize\n",
        "\n",
        "pred_prob = forest.predict_proba(X_test)\n",
        "y_bin = label_binarize(y_test,classes=np.unique(y_test))"
      ]
    },
    {
      "cell_type": "code",
      "execution_count": 19,
      "metadata": {
        "colab": {
          "base_uri": "https://localhost:8080/",
          "height": 295
        },
        "id": "HX9ThpHXS_rD",
        "outputId": "ec9e4a3a-4402-48c2-8c12-99c2cb6f46ad"
      },
      "outputs": [
        {
          "output_type": "display_data",
          "data": {
            "text/plain": [
              "<Figure size 432x288 with 1 Axes>"
            ],
            "image/png": "[encoded data removed]"
          },
          "metadata": {
            "needs_background": "light"
          }
        }
      ],
      "source": [
        "fpr = {}\n",
        "tpr = {}\n",
        "thresh ={}\n",
        "roc_auc = dict()\n",
        "\n",
        "n_class = 4\n",
        "classes = [i for i in range(4)]\n",
        "\n",
        "for i in range(n_class):    \n",
        "    fpr[i], tpr[i], thresh[i] = roc_curve(y_bin[:,i], pred_prob[:,i])\n",
        "    roc_auc[i] = auc(fpr[i], tpr[i])\n",
        "    plt.plot(fpr[i], tpr[i], linestyle='-', label='%s vs Rest (AUC=%0.2f)'%(classes[i],roc_auc[i]))\n",
        "\n",
        "plt.plot([0,1],[0,1],'b-')\n",
        "plt.xlim([0,1])\n",
        "plt.ylim([0,1.05])\n",
        "plt.title('Multiclass ROC curve')\n",
        "plt.xlabel('False Positive')\n",
        "plt.ylabel('True Positive')\n",
        "plt.legend(loc='lower right')\n",
        "plt.show()\n"
      ]
    },
    {
      "cell_type": "code",
      "execution_count": 19,
      "metadata": {
        "id": "aHunme0toiCQ"
      },
      "outputs": [],
      "source": []
    },
    {
      "cell_type": "markdown",
      "metadata": {
        "id": "WwQnJkAISWNf"
      },
      "source": [
        "#**Feature Importance**"
      ]
    },
    {
      "cell_type": "code",
      "execution_count": 20,
      "metadata": {
        "colab": {
          "base_uri": "https://localhost:8080/"
        },
        "id": "0B-uyft-NboR",
        "outputId": "4a96b5ec-7aab-4cc7-b640-8672cde1a16d"
      },
      "outputs": [
        {
          "output_type": "stream",
          "name": "stdout",
          "text": [
            "Looking in indexes: https://pypi.org/simple, https://us-python.pkg.dev/colab-wheels/public/simple/\n",
            "Collecting shap\n",
            "  Downloading shap-0.41.0-cp38-cp38-manylinux_2_12_x86_64.manylinux2010_x86_64.whl (575 kB)\n",
            "\u001b[2K     \u001b[90m━━━━━━━━━━━━━━━━━━━━━━━━━━━━━━━━━━━━━━━\u001b[0m \u001b[32m575.9/575.9 KB\u001b[0m \u001b[31m8.9 MB/s\u001b[0m eta \u001b[36m0:00:00\u001b[0m\n",
            "\u001b[?25hRequirement already satisfied: tqdm>4.25.0 in /usr/local/lib/python3.8/dist-packages (from shap) (4.64.1)\n",
            "Requirement already satisfied: scipy in /usr/local/lib/python3.8/dist-packages (from shap) (1.7.3)\n",
            "Requirement already satisfied: numpy in /usr/local/lib/python3.8/dist-packages (from shap) (1.21.6)\n",
            "Requirement already satisfied: packaging>20.9 in /usr/local/lib/python3.8/dist-packages (from shap) (23.0)\n",
            "Requirement already satisfied: scikit-learn in /usr/local/lib/python3.8/dist-packages (from shap) (1.0.2)\n",
            "Collecting slicer==0.0.7\n",
            "  Downloading slicer-0.0.7-py3-none-any.whl (14 kB)\n",
            "Requirement already satisfied: numba in /usr/local/lib/python3.8/dist-packages (from shap) (0.56.4)\n",
            "Requirement already satisfied: cloudpickle in /usr/local/lib/python3.8/dist-packages (from shap) (2.2.1)\n",
            "Requirement already satisfied: pandas in /usr/local/lib/python3.8/dist-packages (from shap) (1.3.5)\n",
            "Requirement already satisfied: importlib-metadata in /usr/local/lib/python3.8/dist-packages (from numba->shap) (6.0.0)\n",
            "Requirement already satisfied: setuptools in /usr/local/lib/python3.8/dist-packages (from numba->shap) (57.4.0)\n",
            "Requirement already satisfied: llvmlite<0.40,>=0.39.0dev0 in /usr/local/lib/python3.8/dist-packages (from numba->shap) (0.39.1)\n",
            "Requirement already satisfied: pytz>=2017.3 in /usr/local/lib/python3.8/dist-packages (from pandas->shap) (2022.7.1)\n",
            "Requirement already satisfied: python-dateutil>=2.7.3 in /usr/local/lib/python3.8/dist-packages (from pandas->shap) (2.8.2)\n",
            "Requirement already satisfied: joblib>=0.11 in /usr/local/lib/python3.8/dist-packages (from scikit-learn->shap) (1.2.0)\n",
            "Requirement already satisfied: threadpoolctl>=2.0.0 in /usr/local/lib/python3.8/dist-packages (from scikit-learn->shap) (3.1.0)\n",
            "Requirement already satisfied: six>=1.5 in /usr/local/lib/python3.8/dist-packages (from python-dateutil>=2.7.3->pandas->shap) (1.15.0)\n",
            "Requirement already satisfied: zipp>=0.5 in /usr/local/lib/python3.8/dist-packages (from importlib-metadata->numba->shap) (3.12.1)\n",
            "Installing collected packages: slicer, shap\n",
            "Successfully installed shap-0.41.0 slicer-0.0.7\n"
          ]
        }
      ],
      "source": [
        "forest.feature_importances_\n",
        "!pip install shap"
      ]
    },
    {
      "cell_type": "code",
      "execution_count": 21,
      "metadata": {
        "id": "eFjPbacOQCw7"
      },
      "outputs": [],
      "source": [
        "\n",
        "import shap\n",
        "explainer = shap.TreeExplainer(forest)\n",
        "shap_values = explainer.shap_values(X_test)"
      ]
    },
    {
      "cell_type": "code",
      "execution_count": 22,
      "metadata": {
        "colab": {
          "base_uri": "https://localhost:8080/",
          "height": 664
        },
        "id": "UKT9Dx3COmSg",
        "outputId": "fad11fa2-e36a-4041-e4bf-99c705e924f0"
      },
      "outputs": [
        {
          "output_type": "display_data",
          "data": {
            "text/plain": [
              "<Figure size 576x655.2 with 1 Axes>"
            ],
            "image/png": "[encoded data removed]"
          },
          "metadata": {
            "needs_background": "light"
          }
        }
      ],
      "source": [
        "shap.summary_plot(shap_values, X_test, plot_type=\"bar\")"
      ]
    }
  ],
  "metadata": {
    "colab": {
      "provenance": []
    },
    "kernelspec": {
      "display_name": "Python 3",
      "name": "python3"
    },
    "language_info": {
      "name": "python"
    }
  },
  "nbformat": 4,
  "nbformat_minor": 0
}